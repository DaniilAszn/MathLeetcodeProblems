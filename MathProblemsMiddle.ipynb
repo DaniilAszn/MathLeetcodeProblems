{
  "nbformat": 4,
  "nbformat_minor": 0,
  "metadata": {
    "colab": {
      "provenance": [],
      "authorship_tag": "ABX9TyP5Xi38RsX4T8qSQtiKZG7X",
      "include_colab_link": true
    },
    "kernelspec": {
      "name": "python3",
      "display_name": "Python 3"
    },
    "language_info": {
      "name": "python"
    }
  },
  "cells": [
    {
      "cell_type": "markdown",
      "metadata": {
        "id": "view-in-github",
        "colab_type": "text"
      },
      "source": [
        "<a href=\"https://colab.research.google.com/github/DaniilAszn/Math_Leetcode_Problems/blob/main/MathProblemsMiddle.ipynb\" target=\"_parent\"><img src=\"https://colab.research.google.com/assets/colab-badge.svg\" alt=\"Open In Colab\"/></a>"
      ]
    },
    {
      "cell_type": "markdown",
      "source": [
        "Link: https://leetcode.com/danya_adamov/"
      ],
      "metadata": {
        "id": "t0mD8DvPFz70"
      }
    },
    {
      "cell_type": "markdown",
      "source": [
        "## 2396. Strictly Palindromic Number\n",
        "\n",
        "An integer n is strictly palindromic if, for every base b between 2 and n - 2 (inclusive), the string representation of the integer n in base b is palindromic.\n",
        "\n",
        "Given an integer n, return true if n is strictly palindromic and false otherwise.\n",
        "\n",
        "A string is palindromic if it reads the same forward and backward."
      ],
      "metadata": {
        "id": "XfLVEEE-FztD"
      }
    },
    {
      "cell_type": "code",
      "execution_count": null,
      "metadata": {
        "id": "Es2alzTRWRRE",
        "colab": {
          "base_uri": "https://localhost:8080/",
          "height": 53
        },
        "outputId": "969db2de-6bfc-415b-e38c-46811fe9d84a"
      },
      "outputs": [
        {
          "output_type": "execute_result",
          "data": {
            "text/plain": [
              "'\\nBEST SOLUTION (RUNTIME: 5 MS)\\n\\nclass Solution(object):\\n    def isStrictlyPalindromic(self, n):\\n        \"\"\"\\n        :type n: int\\n        :rtype: bool\\n        \"\"\"\\n        return False\\n        \\n'"
            ],
            "application/vnd.google.colaboratory.intrinsic+json": {
              "type": "string"
            }
          },
          "metadata": {},
          "execution_count": 14
        }
      ],
      "source": [
        "# 1\n",
        "\n",
        "class Solution(object):\n",
        "    def isStrictlyPalindromic(self, n):\n",
        "        \"\"\"\n",
        "        :type n: int\n",
        "        :rtype: bool\n",
        "        \"\"\"\n",
        "        flag = True\n",
        "        for b in range(2, n - 1):\n",
        "            x = n\n",
        "            str_x_b = ''\n",
        "            while x > 0:\n",
        "                str_x_b += str(x % b)\n",
        "                x //= b\n",
        "            if str_x_b != str_x_b[::-1]:\n",
        "                flag = False\n",
        "                break\n",
        "\n",
        "        return flag\n",
        "\n",
        "\n",
        "'''\n",
        "BEST SOLUTION (RUNTIME: 5 MS)\n",
        "\n",
        "class Solution(object):\n",
        "    def isStrictlyPalindromic(self, n):\n",
        "        \"\"\"\n",
        "        :type n: int\n",
        "        :rtype: bool\n",
        "        \"\"\"\n",
        "        return False\n",
        "\n",
        "'''"
      ]
    },
    {
      "cell_type": "markdown",
      "source": [
        "## 1551. Minimum Operations to Make Array Equal\n",
        "\n",
        "You have an array arr of length n where arr[i] = (2 * i) + 1 for all valid values of i (i.e., 0 <= i < n).\n",
        "\n",
        "In one operation, you can select two indices x and y where 0 <= x, y < n and subtract 1 from arr[x] and add 1 to arr[y] (i.e., perform arr[x] -=1 and arr[y] += 1). The goal is to make all the elements of the array equal. It is guaranteed that all the elements of the array can be made equal using some operations.\n",
        "\n",
        "Given an integer n, the length of the array, return the minimum number of operations needed to make all the elements of arr equal."
      ],
      "metadata": {
        "id": "czVH0dN8PiCV"
      }
    },
    {
      "cell_type": "code",
      "source": [
        "# 2\n",
        "\n",
        "class Solution(object):\n",
        "    def minOperations(self, n):\n",
        "        \"\"\"\n",
        "        :type n: int\n",
        "        :rtype: int\n",
        "        \"\"\"\n",
        "        arr = [2 * i + 1 for i in range(n)]\n",
        "        count = 0\n",
        "        if n % 2 != 0:\n",
        "            for i in range((n - 1) // 2):\n",
        "                count += abs(n - arr[i])\n",
        "        else:\n",
        "            for i in range(n // 2):\n",
        "                count += abs(n - arr[i])\n",
        "\n",
        "        return count"
      ],
      "metadata": {
        "id": "MywLgMy_PiU3"
      },
      "execution_count": 23,
      "outputs": []
    }
  ]
}