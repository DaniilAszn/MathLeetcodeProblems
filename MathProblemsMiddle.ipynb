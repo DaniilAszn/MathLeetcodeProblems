{
  "nbformat": 4,
  "nbformat_minor": 0,
  "metadata": {
    "colab": {
      "provenance": [],
      "authorship_tag": "ABX9TyPTJqPxJ3Np8Rh1yUGTmKT1",
      "include_colab_link": true
    },
    "kernelspec": {
      "name": "python3",
      "display_name": "Python 3"
    },
    "language_info": {
      "name": "python"
    }
  },
  "cells": [
    {
      "cell_type": "markdown",
      "metadata": {
        "id": "view-in-github",
        "colab_type": "text"
      },
      "source": [
        "<a href=\"https://colab.research.google.com/github/DaniilAszn/Math_Leetcode_Problems/blob/main/MathProblemsMiddle.ipynb\" target=\"_parent\"><img src=\"https://colab.research.google.com/assets/colab-badge.svg\" alt=\"Open In Colab\"/></a>"
      ]
    },
    {
      "cell_type": "markdown",
      "source": [
        "Link: https://leetcode.com/danya_adamov/"
      ],
      "metadata": {
        "id": "t0mD8DvPFz70"
      }
    },
    {
      "cell_type": "markdown",
      "source": [
        "## 2396. Strictly Palindromic Number\n",
        "\n",
        "An integer n is strictly palindromic if, for every base b between 2 and n - 2 (inclusive), the string representation of the integer n in base b is palindromic.\n",
        "\n",
        "Given an integer n, return true if n is strictly palindromic and false otherwise.\n",
        "\n",
        "A string is palindromic if it reads the same forward and backward."
      ],
      "metadata": {
        "id": "XfLVEEE-FztD"
      }
    },
    {
      "cell_type": "code",
      "execution_count": null,
      "metadata": {
        "id": "Es2alzTRWRRE",
        "colab": {
          "base_uri": "https://localhost:8080/",
          "height": 53
        },
        "outputId": "969db2de-6bfc-415b-e38c-46811fe9d84a"
      },
      "outputs": [
        {
          "output_type": "execute_result",
          "data": {
            "text/plain": [
              "'\\nBEST SOLUTION (RUNTIME: 5 MS)\\n\\nclass Solution(object):\\n    def isStrictlyPalindromic(self, n):\\n        \"\"\"\\n        :type n: int\\n        :rtype: bool\\n        \"\"\"\\n        return False\\n        \\n'"
            ],
            "application/vnd.google.colaboratory.intrinsic+json": {
              "type": "string"
            }
          },
          "metadata": {},
          "execution_count": 14
        }
      ],
      "source": [
        "# 1\n",
        "\n",
        "class Solution(object):\n",
        "    def isStrictlyPalindromic(self, n):\n",
        "        \"\"\"\n",
        "        :type n: int\n",
        "        :rtype: bool\n",
        "        \"\"\"\n",
        "        flag = True\n",
        "        for b in range(2, n - 1):\n",
        "            x = n\n",
        "            str_x_b = ''\n",
        "            while x > 0:\n",
        "                str_x_b += str(x % b)\n",
        "                x //= b\n",
        "            if str_x_b != str_x_b[::-1]:\n",
        "                flag = False\n",
        "                break\n",
        "\n",
        "        return flag\n",
        "\n",
        "\n",
        "'''\n",
        "BEST SOLUTION (RUNTIME: 5 MS)\n",
        "\n",
        "class Solution(object):\n",
        "    def isStrictlyPalindromic(self, n):\n",
        "        \"\"\"\n",
        "        :type n: int\n",
        "        :rtype: bool\n",
        "        \"\"\"\n",
        "        return False\n",
        "\n",
        "'''"
      ]
    },
    {
      "cell_type": "markdown",
      "source": [
        "## 1551. Minimum Operations to Make Array Equal\n",
        "\n",
        "You have an array arr of length n where arr[i] = (2 * i) + 1 for all valid values of i (i.e., 0 <= i < n).\n",
        "\n",
        "In one operation, you can select two indices x and y where 0 <= x, y < n and subtract 1 from arr[x] and add 1 to arr[y] (i.e., perform arr[x] -=1 and arr[y] += 1). The goal is to make all the elements of the array equal. It is guaranteed that all the elements of the array can be made equal using some operations.\n",
        "\n",
        "Given an integer n, the length of the array, return the minimum number of operations needed to make all the elements of arr equal."
      ],
      "metadata": {
        "id": "czVH0dN8PiCV"
      }
    },
    {
      "cell_type": "code",
      "source": [
        "# 2\n",
        "\n",
        "class Solution(object):\n",
        "    def minOperations(self, n):\n",
        "        \"\"\"\n",
        "        :type n: int\n",
        "        :rtype: int\n",
        "        \"\"\"\n",
        "        arr = [2 * i + 1 for i in range(n)]\n",
        "        count = 0\n",
        "        if n % 2 != 0:\n",
        "            for i in range((n - 1) // 2):\n",
        "                count += abs(n - arr[i])\n",
        "        else:\n",
        "            for i in range(n // 2):\n",
        "                count += abs(n - arr[i])\n",
        "\n",
        "        return count\n"
      ],
      "metadata": {
        "id": "MywLgMy_PiU3"
      },
      "execution_count": null,
      "outputs": []
    },
    {
      "cell_type": "markdown",
      "source": [
        "## 2317. Maximum XOR After Operations\n",
        "\n",
        "You are given a 0-indexed integer array nums. In one operation, select any non-negative integer x and an index i, then update nums[i] to be equal to nums[i] AND (nums[i] XOR x).\n",
        "\n",
        "Note that AND is the bitwise AND operation and XOR is the bitwise XOR operation.\n",
        "\n",
        "Return the maximum possible bitwise XOR of all elements of nums after applying the operation any number of times."
      ],
      "metadata": {
        "id": "Ivct9BQw-9AH"
      }
    },
    {
      "cell_type": "code",
      "source": [
        "# 3\n",
        "\n",
        "class Solution(object):\n",
        "    def maximumXOR(self, nums):\n",
        "        \"\"\"\n",
        "        :type nums: List[int]\n",
        "        :rtype: int\n",
        "        \"\"\"\n",
        "        max_xor = nums[0]\n",
        "        for i in range(1, len(nums)):\n",
        "            max_xor = max_xor | nums[i]\n",
        "\n",
        "        return max_xor"
      ],
      "metadata": {
        "id": "0-scazLf-9W8"
      },
      "execution_count": null,
      "outputs": []
    },
    {
      "cell_type": "markdown",
      "source": [
        "## 2442. Count Number of Distinct Integers After Reverse Operations\n",
        "\n",
        "You are given an array nums consisting of positive integers.\n",
        "\n",
        "You have to take each integer in the array, reverse its digits, and add it to the end of the array. You should apply this operation to the original integers in nums.\n",
        "\n",
        "Return the number of distinct integers in the final array."
      ],
      "metadata": {
        "id": "WaeLu5tTsBSt"
      }
    },
    {
      "cell_type": "code",
      "source": [
        "# 4\n",
        "\n",
        "class Solution(object):\n",
        "    def countDistinctIntegers(self, nums):\n",
        "        \"\"\"\n",
        "        :type nums: List[int]\n",
        "        :rtype: int\n",
        "        \"\"\"\n",
        "        for i in range(len(nums)):\n",
        "            str_num = str(nums[i])\n",
        "            nums.append(int(str(nums[i])[::-1]))\n",
        "\n",
        "        return len(set(nums))\n"
      ],
      "metadata": {
        "id": "ODJn_9s9sBlN"
      },
      "execution_count": null,
      "outputs": []
    },
    {
      "cell_type": "markdown",
      "source": [
        "## 2221. Find Triangular Sum of an Array\n",
        "\n",
        "You are given a 0-indexed integer array nums, where nums[i] is a digit between 0 and 9 (inclusive).\n",
        "\n",
        "The triangular sum of nums is the value of the only element present in nums after the following process terminates:\n",
        "\n",
        "1. Let nums comprise of n elements. If n == 1, end the process. Otherwise, create a new 0-indexed integer array newNums of length n - 1.\n",
        "2. For each index i, where 0 <= i < n - 1, assign the value of newNums[i] as (nums[i] + nums[i+1]) % 10, where % denotes modulo operator.\n",
        "3. Replace the array nums with newNums.\n",
        "4. Repeat the entire process starting from step 1.\n",
        "\n",
        "Return the triangular sum of nums."
      ],
      "metadata": {
        "id": "Nb-rz42yz9vD"
      }
    },
    {
      "cell_type": "code",
      "source": [
        "# 5\n",
        "\n",
        "class Solution(object):\n",
        "    def triangularSum(self, nums):\n",
        "        \"\"\"\n",
        "        :type nums: List[int]\n",
        "        :rtype: int\n",
        "        \"\"\"\n",
        "        return self.recursiveTriangularSum(nums, len(nums))\n",
        "\n",
        "    def recursiveTriangularSum(self, nums, len_nums):\n",
        "        if len_nums == 1:\n",
        "            return nums[0]\n",
        "        for i in range(len_nums - 1):\n",
        "            nums[i] = (nums[i] + nums[i+1]) % 10\n",
        "        return self.recursiveTriangularSum(nums, len_nums - 1)\n"
      ],
      "metadata": {
        "id": "QBCHX4QIz-Be"
      },
      "execution_count": null,
      "outputs": []
    },
    {
      "cell_type": "markdown",
      "source": [
        "## 48. Rotate Image\n",
        "\n",
        "You are given an n x n 2D matrix representing an image, rotate the image by 90 degrees (clockwise).\n",
        "\n",
        "You have to rotate the image in-place, which means you have to modify the input 2D matrix directly. DO NOT allocate another 2D matrix and do the rotation."
      ],
      "metadata": {
        "id": "gfDoQXmn30dD"
      }
    },
    {
      "cell_type": "code",
      "source": [
        "# 6\n",
        "\n",
        "class Solution(object):\n",
        "    def rotate(self, matrix):\n",
        "        \"\"\"\n",
        "        :type matrix: List[List[int]]\n",
        "        :rtype: None Do not return anything, modify matrix in-place instead.\n",
        "        \"\"\"\n",
        "        matrix.reverse()\n",
        "        for i in range(len(matrix)):\n",
        "            for j in range(i):\n",
        "                matrix[i][j], matrix[j][i] = matrix[j][i], matrix[i][j]\n"
      ],
      "metadata": {
        "id": "-5aaelrd30xX"
      },
      "execution_count": null,
      "outputs": []
    },
    {
      "cell_type": "markdown",
      "source": [
        "## 537. Complex Number Multiplication\n",
        "\n",
        "A complex number can be represented as a string on the form \"real+imaginaryi\" where:\n",
        "\n",
        "* real is the real part and is an integer in the range [-100, 100].\n",
        "* imaginary is the imaginary part and is an integer in the range [-100, 100].\n",
        "* i^2 == -1.\n",
        "\n",
        "Given two complex numbers num1 and num2 as strings, return a string of the complex number that represents their multiplications."
      ],
      "metadata": {
        "id": "BQQTeYyW7Mwa"
      }
    },
    {
      "cell_type": "code",
      "source": [
        "# 7\n",
        "\n",
        "class Solution(object):\n",
        "    def complexNumberMultiply(self, num1, num2):\n",
        "        \"\"\"\n",
        "        :type num1: str\n",
        "        :type num2: str\n",
        "        :rtype: str\n",
        "        \"\"\"\n",
        "        num1 = num1.replace('+', '/', 1).replace('i', '', 1).split('/')\n",
        "        num2 = num2.replace('+', '/', 1).replace('i', '', 1).split('/')\n",
        "\n",
        "        x = int(num1[0])\n",
        "        y = int(num1[1])\n",
        "        u = int(num2[0])\n",
        "        v = int(num2[1])\n",
        "\n",
        "        num_re = str(x * u - y * v)\n",
        "        num_im = str(x * v + y * u)\n",
        "\n",
        "        return num_re + '+' + num_im + 'i'\n"
      ],
      "metadata": {
        "id": "RBwwzzHE7NJN"
      },
      "execution_count": null,
      "outputs": []
    },
    {
      "cell_type": "markdown",
      "source": [
        "## 1238. Circular Permutation in Binary Representation\n",
        "\n",
        "Given 2 integers n and start. Your task is return any permutation p of (0,1,2.....,2^n -1) such that :\n",
        "\n",
        "* p[0] = start\n",
        "* p[i] and p[i+1] differ by only one bit in their binary representation.\n",
        "* p[0] and p[2^n -1] must also differ by only one bit in their binary representation."
      ],
      "metadata": {
        "id": "MHK1N6VbLUXW"
      }
    },
    {
      "cell_type": "code",
      "source": [
        "# 8\n",
        "\n",
        "class Solution(object):\n",
        "    def circularPermutation(self, n, start):\n",
        "        \"\"\"\n",
        "        :type n: int\n",
        "        :type start: int\n",
        "        :rtype: List[int]\n",
        "        \"\"\"\n",
        "        res = [x ^ (x // 2) for x in range(2 ** n)]\n",
        "        for i in range(len(res)):\n",
        "            if start == res[i]:\n",
        "                return res[i:] + res[:i]"
      ],
      "metadata": {
        "id": "SDuUFJ0SLUux"
      },
      "execution_count": null,
      "outputs": []
    },
    {
      "cell_type": "markdown",
      "source": [
        "## 1685. Sum of Absolute Differences in a Sorted Array\n",
        "\n",
        "You are given an integer array nums sorted in non-decreasing order.\n",
        "\n",
        "Build and return an integer array result with the same length as nums such that result[i] is equal to the summation of absolute differences between nums[i] and all the other elements in the array.\n",
        "\n",
        "In other words, result[i] is equal to sum(|nums[i]-nums[j]|) where 0 <= j < nums.length and j != i (0-indexed)."
      ],
      "metadata": {
        "id": "BIctPl6ji9iy"
      }
    },
    {
      "cell_type": "code",
      "source": [
        "# 9\n",
        "\n",
        "class Solution(object):\n",
        "    def getSumAbsoluteDifferences(self, nums):\n",
        "        \"\"\"\n",
        "        :type nums: List[int]\n",
        "        :rtype: List[int]\n",
        "        \"\"\"\n",
        "        sm, pr = sum(nums), 0\n",
        "        for i in range(len(nums)):\n",
        "            pr += nums[i]\n",
        "            nums[i] = ((i + 1) * nums[i] - pr) + (sm - pr) - (len(nums) - i - 1) * nums[i]\n",
        "        return nums\n",
        "\n",
        "'''\n",
        "nums = [2, 3, 5]\n",
        "nums = [1,4,6,8,10]\n",
        "\n",
        "result = []\n",
        "n = len(nums)\n",
        "i = j = 0\n",
        "s = 0\n",
        "while i < n and j < n:\n",
        "    s += abs(nums[i] - nums[j])\n",
        "    j += 1\n",
        "    if j == n and i < n:\n",
        "        result.append(s)\n",
        "        i += 1\n",
        "        j = 0\n",
        "        s = 0\n",
        "result\n",
        "'''"
      ],
      "metadata": {
        "colab": {
          "base_uri": "https://localhost:8080/"
        },
        "id": "_KXNMTnLi9z7",
        "outputId": "f3ddd2df-f4a4-4c56-bc5f-4288ccf906a7"
      },
      "execution_count": null,
      "outputs": [
        {
          "output_type": "execute_result",
          "data": {
            "text/plain": [
              "[24, 15, 13, 15, 21]"
            ]
          },
          "metadata": {},
          "execution_count": 57
        }
      ]
    },
    {
      "cell_type": "markdown",
      "source": [
        "## 2358. Maximum Number of Groups Entering a Competition\n",
        "\n",
        "You are given a positive integer array grades which represents the grades of students in a university. You would like to enter all these students into a competition in ordered non-empty groups, such that the ordering meets the following conditions:\n",
        "* The sum of the grades of students in the ith group is less than the sum of the grades of students in the (i + 1)th group, for all groups (except the last).\n",
        "* The total number of students in the ith group is less than the total number of students in the (i + 1)th group, for all groups (except the last).\n",
        "\n",
        "Return the maximum number of groups that can be formed."
      ],
      "metadata": {
        "id": "r6Ev3_UM8Chh"
      }
    },
    {
      "cell_type": "code",
      "source": [
        "# 10\n",
        "\n",
        "class Solution(object):\n",
        "    def maximumGroups(self, grades):\n",
        "        \"\"\"\n",
        "        :type grades: List[int]\n",
        "        :rtype: int\n",
        "        \"\"\"\n",
        "        n = len(grades)\n",
        "        count = 0\n",
        "        while n >= count + 1:\n",
        "            count += 1\n",
        "            n -= count\n",
        "\n",
        "        return count\n",
        ""
      ],
      "metadata": {
        "id": "4gPvGSYK8Cuo"
      },
      "execution_count": 6,
      "outputs": []
    }
  ]
}