{
  "nbformat": 4,
  "nbformat_minor": 0,
  "metadata": {
    "colab": {
      "provenance": [],
      "authorship_tag": "ABX9TyM4amF/w1KByJgs3h8tTBED",
      "include_colab_link": true
    },
    "kernelspec": {
      "name": "python3",
      "display_name": "Python 3"
    },
    "language_info": {
      "name": "python"
    }
  },
  "cells": [
    {
      "cell_type": "markdown",
      "metadata": {
        "id": "view-in-github",
        "colab_type": "text"
      },
      "source": [
        "<a href=\"https://colab.research.google.com/github/DaniilAszn/MathLeetcodeProblems/blob/main/MathProblemsMiddle.ipynb\" target=\"_parent\"><img src=\"https://colab.research.google.com/assets/colab-badge.svg\" alt=\"Open In Colab\"/></a>"
      ]
    },
    {
      "cell_type": "markdown",
      "source": [
        "Link: https://leetcode.com/danya_adamov/"
      ],
      "metadata": {
        "id": "t0mD8DvPFz70"
      }
    },
    {
      "cell_type": "markdown",
      "source": [
        "## 2396. Strictly Palindromic Number\n",
        "\n",
        "An integer n is strictly palindromic if, for every base b between 2 and n - 2 (inclusive), the string representation of the integer n in base b is palindromic.\n",
        "\n",
        "Given an integer n, return true if n is strictly palindromic and false otherwise.\n",
        "\n",
        "A string is palindromic if it reads the same forward and backward."
      ],
      "metadata": {
        "id": "XfLVEEE-FztD"
      }
    },
    {
      "cell_type": "code",
      "execution_count": 14,
      "metadata": {
        "id": "Es2alzTRWRRE",
        "colab": {
          "base_uri": "https://localhost:8080/",
          "height": 53
        },
        "outputId": "969db2de-6bfc-415b-e38c-46811fe9d84a"
      },
      "outputs": [
        {
          "output_type": "execute_result",
          "data": {
            "text/plain": [
              "'\\nBEST SOLUTION (RUNTIME: 5 MS)\\n\\nclass Solution(object):\\n    def isStrictlyPalindromic(self, n):\\n        \"\"\"\\n        :type n: int\\n        :rtype: bool\\n        \"\"\"\\n        return False\\n        \\n'"
            ],
            "application/vnd.google.colaboratory.intrinsic+json": {
              "type": "string"
            }
          },
          "metadata": {},
          "execution_count": 14
        }
      ],
      "source": [
        "# 1\n",
        "\n",
        "class Solution(object):\n",
        "    def isStrictlyPalindromic(self, n):\n",
        "        \"\"\"\n",
        "        :type n: int\n",
        "        :rtype: bool\n",
        "        \"\"\"\n",
        "        flag = True\n",
        "        for b in range(2, n - 1):\n",
        "            x = n\n",
        "            str_x_b = ''\n",
        "            while x > 0:\n",
        "                str_x_b += str(x % b)\n",
        "                x //= b\n",
        "            if str_x_b != str_x_b[::-1]:\n",
        "                flag = False\n",
        "                break\n",
        "\n",
        "        return flag\n",
        "\n",
        "\n",
        "'''\n",
        "BEST SOLUTION (RUNTIME: 5 MS)\n",
        "\n",
        "class Solution(object):\n",
        "    def isStrictlyPalindromic(self, n):\n",
        "        \"\"\"\n",
        "        :type n: int\n",
        "        :rtype: bool\n",
        "        \"\"\"\n",
        "        return False\n",
        "\n",
        "'''"
      ]
    }
  ]
}