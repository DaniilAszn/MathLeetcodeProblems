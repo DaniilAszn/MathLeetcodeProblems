{
  "nbformat": 4,
  "nbformat_minor": 0,
  "metadata": {
    "colab": {
      "provenance": [],
      "authorship_tag": "ABX9TyPXtX15WXkFYafE419bMGji",
      "include_colab_link": true
    },
    "kernelspec": {
      "name": "python3",
      "display_name": "Python 3"
    },
    "language_info": {
      "name": "python"
    }
  },
  "cells": [
    {
      "cell_type": "markdown",
      "metadata": {
        "id": "view-in-github",
        "colab_type": "text"
      },
      "source": [
        "<a href=\"https://colab.research.google.com/github/DaniilAszn/Math_Leetcode_Problems/blob/main/MathProblemsEasy.ipynb\" target=\"_parent\"><img src=\"https://colab.research.google.com/assets/colab-badge.svg\" alt=\"Open In Colab\"/></a>"
      ]
    },
    {
      "cell_type": "markdown",
      "source": [
        "Link: https://leetcode.com/danya_adamov/"
      ],
      "metadata": {
        "id": "0yexVjDuROmo"
      }
    },
    {
      "cell_type": "markdown",
      "source": [
        "## 1512. Number of Good Pairs\n",
        "\n",
        "Given an array of integers nums, return the number of good pairs.\n",
        "\n",
        "A pair (i, j) is called good if nums[i] == nums[j] and i < j."
      ],
      "metadata": {
        "id": "PZR-0KaECbRM"
      }
    },
    {
      "cell_type": "code",
      "source": [
        "# 1\n",
        "\n",
        "class Solution(object):\n",
        "    def numIdenticalPairs(self, nums):\n",
        "        \"\"\"\n",
        "        :type nums: List[int]\n",
        "        :rtype: int\n",
        "        \"\"\"\n",
        "        result = 0\n",
        "\n",
        "        for i in range(len(nums)):\n",
        "            for j in range(i + 1, len(nums)):\n",
        "                if nums[i] == nums[j]:\n",
        "                    result += 1\n",
        "\n",
        "        return result\n"
      ],
      "metadata": {
        "id": "igA3UmxRgGVI"
      },
      "execution_count": null,
      "outputs": []
    },
    {
      "cell_type": "markdown",
      "source": [
        "## 2469. Convert the Temperature\n",
        "\n",
        "You are given a non-negative floating point number rounded to two decimal places celsius, that denotes the temperature in Celsius.\n",
        "\n",
        "You should convert Celsius into Kelvin and Fahrenheit and return it as an array ans = [kelvin, fahrenheit].\n",
        "\n",
        "Return the array ans. Answers within 10-5 of the actual answer will be accepted.\n",
        "\n",
        "Note that:\n",
        "\n",
        "* Kelvin = Celsius + 273.15\n",
        "* Fahrenheit = Celsius * 1.80 + 32.00"
      ],
      "metadata": {
        "id": "cypYTvTMCEXP"
      }
    },
    {
      "cell_type": "code",
      "source": [
        "# 2\n",
        "\n",
        "class Solution(object):\n",
        "    def convertTemperature(self, celsius):\n",
        "        \"\"\"\n",
        "        :type celsius: float\n",
        "        :rtype: List[float]\n",
        "        \"\"\"\n",
        "        return [celsius + 273.15, celsius * 1.80 + 32.00]\n"
      ],
      "metadata": {
        "id": "-2NqGuURgOSK"
      },
      "execution_count": null,
      "outputs": []
    },
    {
      "cell_type": "markdown",
      "source": [
        "## 2769. Find the Maximum Achievable Number\n",
        "\n",
        "You are given two integers, num and t.\n",
        "\n",
        "An integer x is called achievable if it can become equal to num after applying the following operation no more than t times:\n",
        "\n",
        "* Increase or decrease x by 1, and simultaneously increase or decrease num by 1.\n",
        "\n",
        "Return the maximum possible achievable number. It can be proven that there exists at least one achievable number."
      ],
      "metadata": {
        "id": "n9XQ4KEeBhw4"
      }
    },
    {
      "cell_type": "code",
      "source": [
        "# 3\n",
        "\n",
        "class Solution(object):\n",
        "    def theMaximumAchievableX(self, num, t):\n",
        "        \"\"\"\n",
        "        :type num: int\n",
        "        :type t: int\n",
        "        :rtype: int\n",
        "        \"\"\"\n",
        "\t      return num + 2 * t\n"
      ],
      "metadata": {
        "id": "yb_VsxcEgS2h"
      },
      "execution_count": null,
      "outputs": []
    },
    {
      "cell_type": "markdown",
      "source": [
        "## 2894. Divisible and Non-divisible Sums Difference\n",
        "\n",
        "You are given positive integers n and m.\n",
        "\n",
        "Define two integers, num1 and num2, as follows:\n",
        "\n",
        "*   num1: The sum of all integers in the range [1, n] that are not divisible by m.\n",
        "*   num2: The sum of all integers in the range [1, n] that are divisible by m.\n",
        "\n",
        "Return the integer num1 - num2."
      ],
      "metadata": {
        "id": "OBRcshN5AMeK"
      }
    },
    {
      "cell_type": "code",
      "source": [
        "# 4\n",
        "\n",
        "class Solution(object):\n",
        "    def differenceOfSums(self, n, m):\n",
        "        \"\"\"\n",
        "        :type n: int\n",
        "        :type m: int\n",
        "        :rtype: int\n",
        "        \"\"\"\n",
        "        num1 = sum([x * (x % m != 0) for x in range(1, n + 1)])\n",
        "        num2 = sum([x * (x % m == 0) for x in range(1, n + 1)])\n",
        "\n",
        "        return num1 - num2\n"
      ],
      "metadata": {
        "id": "10vsawfBAMNC"
      },
      "execution_count": null,
      "outputs": []
    },
    {
      "cell_type": "markdown",
      "source": [
        "## 2413. Smallest Even Multiple\n",
        "\n",
        "Given a positive integer n, return the smallest positive integer that is a multiple of both 2 and n."
      ],
      "metadata": {
        "id": "lTuXG7hBL7Xy"
      }
    },
    {
      "cell_type": "code",
      "source": [
        "# 5\n",
        "\n",
        "class Solution(object):\n",
        "    def smallestEvenMultiple(self, n, m = 2):\n",
        "        \"\"\"\n",
        "        :type n: int\n",
        "        :rtype: int\n",
        "        \"\"\"\n",
        "        result = 0\n",
        "\n",
        "        for i in range(max(n , m), n * m + 1):\n",
        "            if (i % n == 0) and (i % m == 0):\n",
        "                result = i\n",
        "                break\n",
        "\n",
        "        return result\n"
      ],
      "metadata": {
        "id": "Yd21E5UoL7uo"
      },
      "execution_count": null,
      "outputs": []
    },
    {
      "cell_type": "markdown",
      "source": [
        "## 2235. Add Two Integers\n",
        "\n",
        "Given two integers num1 and num2, return the sum of the two integers."
      ],
      "metadata": {
        "id": "E_qfrDBuLi_E"
      }
    },
    {
      "cell_type": "code",
      "source": [
        "# 6\n",
        "\n",
        "class Solution(object):\n",
        "    def sum(self, num1, num2):\n",
        "        \"\"\"\n",
        "        :type num1: int\n",
        "        :type num2: int\n",
        "        :rtype: int\n",
        "        \"\"\"\n",
        "        return num1 + num2\n"
      ],
      "metadata": {
        "id": "qMVRJySyLjXQ"
      },
      "execution_count": null,
      "outputs": []
    },
    {
      "cell_type": "markdown",
      "source": [
        "## 1281. Subtract the Product and Sum of Digits of an Integer\n",
        "\n",
        "Given an integer number n, return the difference between the product of its digits and the sum of its digits."
      ],
      "metadata": {
        "id": "O0FyTYkUMvQO"
      }
    },
    {
      "cell_type": "code",
      "source": [
        "# 7\n",
        "\n",
        "class Solution(object):\n",
        "    def subtractProductAndSum(self, n):\n",
        "        \"\"\"\n",
        "        :type n: int\n",
        "        :rtype: int\n",
        "        \"\"\"\n",
        "        product = 1\n",
        "        sum = 0\n",
        "\n",
        "        while n > 0:\n",
        "            product *= n % 10\n",
        "            sum += n % 10\n",
        "            n //= 10\n",
        "\n",
        "        return product - sum\n"
      ],
      "metadata": {
        "id": "AwSwdkEzMvtH"
      },
      "execution_count": null,
      "outputs": []
    },
    {
      "cell_type": "markdown",
      "source": [
        "## 2160. Minimum Sum of Four Digit Number After Splitting Digits\n",
        "\n",
        "You are given a positive integer num consisting of exactly four digits. Split num into two new integers new1 and new2 by using the digits found in num. Leading zeros are allowed in new1 and new2, and all the digits found in num must be used.\n",
        "\n",
        "* For example, given num = 2932, you have the following digits: two 2's, one 9 and one 3. Some of the possible pairs [new1, new2] are [22, 93], [23, 92], [223, 9] and [2, 329].\n",
        "\n",
        "Return the minimum possible sum of new1 and new2."
      ],
      "metadata": {
        "id": "2GWeOd616xPX"
      }
    },
    {
      "cell_type": "code",
      "source": [
        "# 8\n",
        "\n",
        "class Solution(object):\n",
        "    def minimumSum(self, num):\n",
        "        \"\"\"\n",
        "        :type num: int\n",
        "        :rtype: int\n",
        "        \"\"\"\n",
        "        result = []\n",
        "\n",
        "        while num > 0:\n",
        "            result.append(num % 10)\n",
        "            num //= 10\n",
        "\n",
        "        result.sort()\n",
        "\n",
        "        num1 = result[0] * 10 + result[2]\n",
        "        num2 = result[1] * 10 + result[3]\n",
        "\n",
        "        return num1 + num2\n"
      ],
      "metadata": {
        "id": "8UGKo7Ni67Dz"
      },
      "execution_count": null,
      "outputs": []
    },
    {
      "cell_type": "markdown",
      "source": [
        "## 1688. Count of Matches in Tournament\n",
        "\n",
        "You are given an integer n, the number of teams in a tournament that has strange rules:\n",
        "\n",
        "* If the current number of teams is even, each team gets paired with another team. A total of n / 2 matches are played, and n / 2 teams advance to the next round.\n",
        "* If the current number of teams is odd, one team randomly advances in the tournament, and the rest gets paired. A total of (n - 1) / 2 matches are played, and (n - 1) / 2 + 1 teams advance to the next round.\n",
        "\n",
        "Return the number of matches played in the tournament until a winner is decided."
      ],
      "metadata": {
        "id": "Z1kLwXdN6W9V"
      }
    },
    {
      "cell_type": "code",
      "source": [
        "# 9\n",
        "\n",
        "class Solution(object):\n",
        "    def numberOfMatches(self, n):\n",
        "        \"\"\"\n",
        "        :type n: int\n",
        "        :rtype: int\n",
        "        \"\"\"\n",
        "        s = 0\n",
        "        while n > 1:\n",
        "\n",
        "            if n % 2 == 0:\n",
        "                m = n / 2\n",
        "                t = n / 2\n",
        "                s += m\n",
        "            else:\n",
        "                m = (n - 1) / 2\n",
        "                t = (n - 1) / 2 + 1\n",
        "                s += m\n",
        "\n",
        "            n = t\n",
        "\n",
        "        return s\n"
      ],
      "metadata": {
        "id": "5GxUd1Zi6XQH"
      },
      "execution_count": null,
      "outputs": []
    },
    {
      "cell_type": "markdown",
      "source": [
        "## 1486. XOR Operation in an Array\n",
        "\n",
        "You are given an integer n and an integer start.\n",
        "\n",
        "Define an array nums where nums[i] = start + 2 * i (0-indexed) and n == nums.length.\n",
        "\n",
        "Return the bitwise XOR of all elements of nums."
      ],
      "metadata": {
        "id": "JMBXrfadLNVs"
      }
    },
    {
      "cell_type": "code",
      "source": [
        "# 10\n",
        "\n",
        "class Solution(object):\n",
        "    def xorOperation(self, n, start):\n",
        "        \"\"\"\n",
        "        :type n: int\n",
        "        :type start: int\n",
        "        :rtype: int\n",
        "        \"\"\"\n",
        "        result = 0\n",
        "        nums = []\n",
        "        for i in range(n):\n",
        "            nums.append(start + 2 * i)\n",
        "            result = result ^ nums[i]\n",
        "\n",
        "        return result\n"
      ],
      "metadata": {
        "id": "wQDADZUiLN5M"
      },
      "execution_count": null,
      "outputs": []
    },
    {
      "cell_type": "markdown",
      "source": [
        "## 1342. Number of Steps to Reduce a Number to Zero\n",
        "\n",
        "Given an integer num, return the number of steps to reduce it to zero.\n",
        "\n",
        "In one step, if the current number is even, you have to divide it by 2, otherwise, you have to subtract 1 from it."
      ],
      "metadata": {
        "id": "_yEUhwykQ6WL"
      }
    },
    {
      "cell_type": "code",
      "source": [
        "# 11\n",
        "\n",
        "class Solution(object):\n",
        "    def numberOfSteps(self, num):\n",
        "        \"\"\"\n",
        "        :type num: int\n",
        "        :rtype: int\n",
        "        \"\"\"\n",
        "        count = 0\n",
        "        while (num != 0):\n",
        "            count += 1\n",
        "            if num % 2 == 0:\n",
        "                num /= 2\n",
        "            else:\n",
        "                num -= 1\n",
        "\n",
        "        return count\n"
      ],
      "metadata": {
        "id": "WOjtGi46Q6sz"
      },
      "execution_count": null,
      "outputs": []
    },
    {
      "cell_type": "markdown",
      "source": [
        "## 2652. Sum Multiples\n",
        "\n",
        "Given a positive integer n, find the sum of all integers in the range [1, n] inclusive that are divisible by 3, 5, or 7.\n",
        "\n",
        "Return an integer denoting the sum of all numbers in the given range satisfying the constraint."
      ],
      "metadata": {
        "id": "U5O2YnN1AlVi"
      }
    },
    {
      "cell_type": "code",
      "source": [
        "# 12\n",
        "\n",
        "class Solution(object):\n",
        "    def sumOfMultiples(self, n):\n",
        "        \"\"\"\n",
        "        :type n: int\n",
        "        :rtype: int\n",
        "        \"\"\"\n",
        "        s = 0\n",
        "        for i in range(1, n + 1):\n",
        "            if (i % 3 == 0) or (i % 5 == 0) or (i % 7 == 0):\n",
        "                s += i\n",
        "        return s\n"
      ],
      "metadata": {
        "id": "BkfOXZHwAloM"
      },
      "execution_count": null,
      "outputs": []
    },
    {
      "cell_type": "markdown",
      "source": [
        "## 2520. Count the Digits That Divide a Number\n",
        "\n",
        "Given an integer num, return the number of digits in num that divide num.\n",
        "\n",
        "An integer val divides nums if nums % val == 0."
      ],
      "metadata": {
        "id": "3afQAAIxFVLj"
      }
    },
    {
      "cell_type": "code",
      "source": [
        "# 13\n",
        "\n",
        "class Solution(object):\n",
        "    def countDigits(self, num):\n",
        "        \"\"\"\n",
        "        :type num: int\n",
        "        :rtype: int\n",
        "        \"\"\"\n",
        "        str_num = str(num)\n",
        "        count = 0\n",
        "\n",
        "        for i in range(len(str_num)):\n",
        "            if num % int(str_num[i]) == 0:\n",
        "                count += 1\n",
        "\n",
        "        return count\n"
      ],
      "metadata": {
        "id": "4Lh6Lj5fFVe4"
      },
      "execution_count": null,
      "outputs": []
    },
    {
      "cell_type": "markdown",
      "source": [
        "## 2535. Difference Between Element Sum and Digit Sum of an Array\n",
        "\n",
        "You are given a positive integer array nums.\n",
        "\n",
        "* The element sum is the sum of all the elements in nums.\n",
        "* The digit sum is the sum of all the digits (not necessarily distinct) that appear in nums.\n",
        "\n",
        "Return the absolute difference between the element sum and digit sum of nums.\n",
        "\n",
        "Note that the absolute difference between two integers x and y is defined as |x - y|."
      ],
      "metadata": {
        "id": "cn8p-NLJ5q_E"
      }
    },
    {
      "cell_type": "code",
      "source": [
        "# 14\n",
        "\n",
        "class Solution(object):\n",
        "    def differenceOfSum(self, nums):\n",
        "        \"\"\"\n",
        "        :type nums: List[int]\n",
        "        :rtype: int\n",
        "        \"\"\"\n",
        "        sum_of_elements = sum(nums)\n",
        "        sum_of_digits = 0\n",
        "\n",
        "        for i in range(len(nums)):\n",
        "            sum_of_element = 0\n",
        "            while nums[i] > 0:\n",
        "                sum_of_element += nums[i] % 10\n",
        "                nums[i] //= 10\n",
        "            sum_of_digits += sum_of_element\n",
        "\n",
        "        return sum_of_elements - sum_of_digits\n"
      ],
      "metadata": {
        "id": "vujZ9VSD5rTT"
      },
      "execution_count": null,
      "outputs": []
    },
    {
      "cell_type": "markdown",
      "source": [
        "## 1588. Sum of All Odd Length Subarrays\n",
        "\n",
        "Given an array of positive integers arr, return the sum of all possible odd-length subarrays of arr.\n",
        "\n",
        "A subarray is a contiguous subsequence of the array."
      ],
      "metadata": {
        "id": "l92gKdux1diM"
      }
    },
    {
      "cell_type": "code",
      "source": [
        "# 15\n",
        "\n",
        "class Solution(object):\n",
        "    def sumOddLengthSubarrays(self, arr):\n",
        "        \"\"\"\n",
        "        :type arr: List[int]\n",
        "        :rtype: int\n",
        "        \"\"\"\n",
        "        sum_of_odd_subarr = 0\n",
        "        sum_of_odd_subarr += sum(arr)\n",
        "        len_arr = len(arr)\n",
        "\n",
        "        len_of_cur_subarr = 3\n",
        "        while len_of_cur_subarr <= len_arr:\n",
        "            for t in range(len_arr):\n",
        "                cur_sum = 0\n",
        "                i = t\n",
        "                j = len_of_cur_subarr + t\n",
        "                if j <= len_arr:\n",
        "                    cur_sum += sum(arr[i:j])\n",
        "                sum_of_odd_subarr += cur_sum\n",
        "            len_of_cur_subarr += 2\n",
        "\n",
        "        return sum_of_odd_subarr\n"
      ],
      "metadata": {
        "id": "_N9a5V7y1d3L"
      },
      "execution_count": null,
      "outputs": []
    },
    {
      "cell_type": "markdown",
      "source": [
        "## 1323. Maximum 69 Number\n",
        "\n",
        "You are given a positive integer num consisting only of digits 6 and 9.\n",
        "\n",
        "Return the maximum number you can get by changing at most one digit (6 becomes 9, and 9 becomes 6)."
      ],
      "metadata": {
        "id": "bhmEE6sCJuh-"
      }
    },
    {
      "cell_type": "code",
      "source": [
        "# 16\n",
        "\n",
        "class Solution(object):\n",
        "    def maximum69Number (self, num):\n",
        "        \"\"\"\n",
        "        :type num: int\n",
        "        :rtype: int\n",
        "        \"\"\"\n",
        "        str_num = str(num)\n",
        "        len_num = len(str_num)\n",
        "        max_69num = int('9' * len_num)\n",
        "        min_69num = int('6' * len_num)\n",
        "        num69 = [min_69num]\n",
        "        if num == max_69num:\n",
        "            return num\n",
        "        else:\n",
        "            for i in range(len_num):\n",
        "                stop = len_num - i\n",
        "                str3 = str(3 * 10 ** len_num)\n",
        "                if str_num[i] == '9':\n",
        "                    num69.append(num - int(str3[:stop]))\n",
        "                elif str_num[i] == '6':\n",
        "                    num69.append(num + int(str3[:stop]))\n",
        "\n",
        "            return max(num69)\n"
      ],
      "metadata": {
        "id": "R1DkVvRoJu1_"
      },
      "execution_count": null,
      "outputs": []
    },
    {
      "cell_type": "markdown",
      "source": [
        "## 1863. Sum of All Subset XOR Totals\n",
        "\n",
        "The XOR total of an array is defined as the bitwise XOR of all its elements, or 0 if the array is empty.\n",
        "\n",
        "* For example, the XOR total of the array [2,5,6] is 2 XOR 5 XOR 6 = 1.\n",
        "\n",
        "Given an array nums, return the sum of all XOR totals for every subset of nums.\n",
        "\n",
        "Note: Subsets with the same elements should be counted multiple times.\n",
        "\n",
        "An array a is a subset of an array b if a can be obtained from b by deleting some (possibly zero) elements of b."
      ],
      "metadata": {
        "id": "rS91ooA8d1T3"
      }
    },
    {
      "cell_type": "code",
      "source": [
        "# 17\n",
        "\n",
        "from itertools import combinations\n",
        "\n",
        "\n",
        "class Solution(object):\n",
        "    def subsetXORSum(self, nums):\n",
        "        \"\"\"\n",
        "        :type nums: List[int]\n",
        "        :rtype: int\n",
        "        \"\"\"\n",
        "        len_nums = len(nums)\n",
        "        sum_of_XOR_nums = 0\n",
        "        sum_of_XOR_nums += sum(nums)\n",
        "\n",
        "        for k in range(2, len_nums + 1):\n",
        "            cur_combination = combinations(nums, k)\n",
        "            for comb in cur_combination:\n",
        "                temp_comb = list(comb)\n",
        "                cur_XOR_sum = 0\n",
        "                for i in range(len(temp_comb)):\n",
        "                    cur_XOR_sum = cur_XOR_sum ^ temp_comb[i]\n",
        "                sum_of_XOR_nums += cur_XOR_sum\n",
        "\n",
        "        return sum_of_XOR_nums\n"
      ],
      "metadata": {
        "id": "1fLQl0d1d1sT"
      },
      "execution_count": null,
      "outputs": []
    },
    {
      "cell_type": "markdown",
      "source": [
        "## 2485. Find the Pivot Integer\n",
        "\n",
        "Given a positive integer n, find the pivot integer x such that:\n",
        "\n",
        "* The sum of all elements between 1 and x inclusively equals the sum of all elements between x and n inclusively.\n",
        "\n",
        "Return the pivot integer x. If no such integer exists, return -1. It is guaranteed that there will be at most one pivot index for the given input."
      ],
      "metadata": {
        "id": "HcPgIwR7Wkgj"
      }
    },
    {
      "cell_type": "code",
      "source": [
        "# 18\n",
        "\n",
        "class Solution(object):\n",
        "    def pivotInteger(self, n):\n",
        "        \"\"\"\n",
        "        :type n: int\n",
        "        :rtype: int\n",
        "        \"\"\"\n",
        "        arr_n = list(range(1, n + 1))\n",
        "        flag = False\n",
        "        for x in arr_n:\n",
        "            if sum(arr_n[:x:]) != sum(arr_n[x - 1::]):\n",
        "                continue\n",
        "            else:\n",
        "                flag, result = True, x\n",
        "                break\n",
        "\n",
        "        if flag:\n",
        "            return result\n",
        "        else:\n",
        "            return -1\n"
      ],
      "metadata": {
        "id": "5CluuUFvWkyf"
      },
      "execution_count": null,
      "outputs": []
    },
    {
      "cell_type": "markdown",
      "source": [
        "## 2119. A Number After a Double Reversal\n",
        "\n",
        "Reversing an integer means to reverse all its digits.\n",
        "\n",
        "* For example, reversing 2021 gives 1202. Reversing 12300 gives 321 as the leading zeros are not retained.\n",
        "\n",
        "Given an integer num, reverse num to get reversed1, then reverse reversed1 to get reversed2. Return true if reversed2 equals num. Otherwise return false."
      ],
      "metadata": {
        "id": "TlXsRs_k14Hu"
      }
    },
    {
      "cell_type": "code",
      "source": [
        "# 19\n",
        "\n",
        "class Solution(object):\n",
        "    def isSameAfterReversals(self, num):\n",
        "        \"\"\"\n",
        "        :type num: int\n",
        "        :rtype: bool\n",
        "        \"\"\"\n",
        "        return num == int(str(int((str(num))[::-1]))[::-1])\n"
      ],
      "metadata": {
        "id": "1eWbm-ih14Wt"
      },
      "execution_count": null,
      "outputs": []
    },
    {
      "cell_type": "markdown",
      "source": [
        "## 2427. Number of Common Factors\n",
        "\n",
        "Given two positive integers a and b, return the number of common factors of a and b.\n",
        "\n",
        "An integer x is a common factor of a and b if x divides both a and b."
      ],
      "metadata": {
        "id": "LPos5tXauJAJ"
      }
    },
    {
      "cell_type": "code",
      "source": [
        "# 20\n",
        "\n",
        "class Solution(object):\n",
        "    def commonFactors(self, a, b):\n",
        "        \"\"\"\n",
        "        :type a: int\n",
        "        :type b: int\n",
        "        :rtype: int\n",
        "        \"\"\"\n",
        "        c = 0\n",
        "        if a % b == 0:\n",
        "            for i in range(1, b + 1):\n",
        "                if a % i == 0 and b % i == 0:\n",
        "                    c += 1\n",
        "        elif b % a == 0:\n",
        "            for i in range(1, a + 1):\n",
        "                if a % i == 0 and b % i == 0:\n",
        "                    c += 1\n",
        "        else:\n",
        "            for i in range(1, min(a, b)):\n",
        "                if a % i == 0 and b % i == 0:\n",
        "                    c += 1\n",
        "\n",
        "        return c\n"
      ],
      "metadata": {
        "id": "RZqkAzIRuJSH"
      },
      "execution_count": null,
      "outputs": []
    },
    {
      "cell_type": "markdown",
      "source": [
        "## 2651. Calculate Delayed Arrival Time\n",
        "\n",
        "You are given a positive integer arrivalTime denoting the arrival time of a train in hours, and another positive integer delayedTime denoting the amount of delay in hours.\n",
        "\n",
        "Return the time when the train will arrive at the station.\n",
        "\n",
        "Note that the time in this problem is in 24-hours format.\n",
        "\n"
      ],
      "metadata": {
        "id": "EVu6EaJ_S4Hq"
      }
    },
    {
      "cell_type": "code",
      "source": [
        "#21\n",
        "\n",
        "class Solution(object):\n",
        "    def findDelayedArrivalTime(self, arrivalTime, delayedTime):\n",
        "        \"\"\"\n",
        "        :type arrivalTime: int\n",
        "        :type delayedTime: int\n",
        "        :rtype: int\n",
        "        \"\"\"\n",
        "        return (arrivalTime + delayedTime) % 24\n"
      ],
      "metadata": {
        "id": "EZsvH1v-S4Vj"
      },
      "execution_count": null,
      "outputs": []
    },
    {
      "cell_type": "markdown",
      "source": [
        "## 1252. Cells with Odd Values in a Matrix\n",
        "\n",
        "There is an m x n matrix that is initialized to all 0's. There is also a 2D array indices where each indices[i] = [ri, ci] represents a 0-indexed location to perform some increment operations on the matrix.\n",
        "\n",
        "For each location indices[i], do both of the following:\n",
        "1.   Increment all the cells on row ri.\n",
        "2.   Increment all the cells on column ci.\n",
        "\n",
        "Given m, n, and indices, return the number of odd-valued cells in the matrix after applying the increment to all locations in indices."
      ],
      "metadata": {
        "id": "_YBI4RHqKPt_"
      }
    },
    {
      "cell_type": "code",
      "source": [
        "# 22\n",
        "\n",
        "class Solution(object):\n",
        "    def oddCells(self, m, n, indices):\n",
        "        \"\"\"\n",
        "        :type m: int\n",
        "        :type n: int\n",
        "        :type indices: List[List[int]]\n",
        "        :rtype: int\n",
        "        \"\"\"\n",
        "        matrix_mn = []\n",
        "        for i in range(m):\n",
        "            cur_row = [0] * n\n",
        "            matrix_mn.append(cur_row)\n",
        "\n",
        "        for indice in indices:\n",
        "            for j in range(n):\n",
        "                matrix_mn[indice[0]][j] += 1\n",
        "            for i in range(m):\n",
        "                matrix_mn[i][indice[1]] += 1\n",
        "\n",
        "        count = 0\n",
        "        for i in range(m):\n",
        "            for j in range(n):\n",
        "                if matrix_mn[i][j] % 2 != 0:\n",
        "                    count += 1\n",
        "\n",
        "        return count\n"
      ],
      "metadata": {
        "id": "v14_NW6xKP8H"
      },
      "execution_count": null,
      "outputs": []
    },
    {
      "cell_type": "markdown",
      "source": [
        "## 728. Self Dividing Numbers\n",
        "\n",
        "A self-dividing number is a number that is divisible by every digit it contains.\n",
        "\n",
        "* For example, 128 is a self-dividing number because 128 % 1 == 0, 128 % 2 == 0, and 128 % 8 == 0.\n",
        "\n",
        "A self-dividing number is not allowed to contain the digit zero.\n",
        "\n",
        "Given two integers left and right, return a list of all the self-dividing numbers in the range [left, right]."
      ],
      "metadata": {
        "id": "qfC7ohqtQ7b5"
      }
    },
    {
      "cell_type": "code",
      "source": [
        "# 23\n",
        "\n",
        "class Solution(object):\n",
        "    def selfDividingNumbers(self, left, right):\n",
        "        \"\"\"\n",
        "        :type left: int\n",
        "        :type right: int\n",
        "        :rtype: List[int]\n",
        "        \"\"\"\n",
        "        self_dividing_arr = []\n",
        "        for element in range(left, right + 1):\n",
        "            x = element\n",
        "            x_digits = []\n",
        "            while x > 0:\n",
        "                x_digits.append(x % 10)\n",
        "                x //= 10\n",
        "            set_x_digits = set(x_digits)\n",
        "            if not(0 in set_x_digits):\n",
        "                flag = True\n",
        "                for d in x_digits:\n",
        "                    if element % d != 0:\n",
        "                        flag = False\n",
        "                        break\n",
        "                if flag:\n",
        "                    self_dividing_arr.append(element)\n",
        "\n",
        "        return self_dividing_arr\n"
      ],
      "metadata": {
        "id": "gByrsTcnQ7pH"
      },
      "execution_count": null,
      "outputs": []
    },
    {
      "cell_type": "markdown",
      "source": [
        "## 1716. Calculate Money in Leetcode Bank\n",
        "\n",
        "Hercy wants to save money for his first car. He puts money in the Leetcode bank every day.\n",
        "\n",
        "He starts by putting in 1 dollar on Monday, the first day. Every day from Tuesday to Sunday, he will put in 1 dollar more than the day before. On every subsequent Monday, he will put in 1 dollar more than the previous Monday.\n",
        "Given n, return the total amount of money he will have in the Leetcode bank at the end of the nth day."
      ],
      "metadata": {
        "id": "OjadkBrGSd2p"
      }
    },
    {
      "cell_type": "code",
      "source": [
        "# 24\n",
        "\n",
        "class Solution(object):\n",
        "    def totalMoney(self, n):\n",
        "        \"\"\"\n",
        "        :type n: int\n",
        "        :rtype: int\n",
        "        \"\"\"\n",
        "        week = [1, 2, 3, 4, 5, 6, 7]\n",
        "        last_days = n % 7\n",
        "        count_week = 0\n",
        "        s = 0\n",
        "        for _ in range(n // 7):\n",
        "            s += sum([element + count_week for element in week])\n",
        "            count_week += 1\n",
        "\n",
        "        s += sum([element + count_week for element in week[:last_days]])\n",
        "\n",
        "        return s\n"
      ],
      "metadata": {
        "id": "dgSzG-0-SeFR"
      },
      "execution_count": null,
      "outputs": []
    },
    {
      "cell_type": "markdown",
      "source": [
        "## 1812. Determine Color of a Chessboard Square\n",
        "\n",
        "You are given coordinates, a string that represents the coordinates of a square of the chessboard. Below is a chessboard for your reference.\n",
        "\n",
        "Return true if the square is white, and false if the square is black.\n",
        "\n",
        "The coordinate will always represent a valid chessboard square. The coordinate will always have the letter first, and the number second."
      ],
      "metadata": {
        "id": "8e0sqh5Nd1AM"
      }
    },
    {
      "cell_type": "code",
      "source": [
        "# 25\n",
        "\n",
        "class Solution(object):\n",
        "    def squareIsWhite(self, coordinates):\n",
        "        \"\"\"\n",
        "        :type coordinates: str\n",
        "        :rtype: bool\n",
        "        \"\"\"\n",
        "        sym_to_num = {\n",
        "            'a': 0,\n",
        "            'b': 1,\n",
        "            'c': 2,\n",
        "            'd': 3,\n",
        "            'e': 4,\n",
        "            'f': 5,\n",
        "            'g': 6,\n",
        "            'h': 7\n",
        "        }\n",
        "\n",
        "        num_to_color = {\n",
        "            1: 'black',\n",
        "            0: 'white'\n",
        "        }\n",
        "\n",
        "        chess_board = []\n",
        "        for i in range(8):\n",
        "            chess_row = []\n",
        "            for j in range(8):\n",
        "                if i % 2 != 0:\n",
        "                    chess_row.append(j % 2)\n",
        "                else:\n",
        "                    chess_row.append((j + 1) % 2)\n",
        "            chess_board.append(chess_row)\n",
        "\n",
        "        if num_to_color[chess_board[sym_to_num[coordinates[0]]][int(coordinates[1]) - 1]] == 'white':\n",
        "            return True\n",
        "        else:\n",
        "            return False\n"
      ],
      "metadata": {
        "id": "lNizqMYmd1PE"
      },
      "execution_count": null,
      "outputs": []
    },
    {
      "cell_type": "markdown",
      "source": [
        "## 1979. Find Greatest Common Divisor of Array\n",
        "\n",
        "Given an integer array nums, return the greatest common divisor of the smallest number and largest number in nums.\n",
        "\n",
        "The greatest common divisor of two numbers is the largest positive integer that evenly divides both numbers."
      ],
      "metadata": {
        "id": "RRw1VS0hv-vv"
      }
    },
    {
      "cell_type": "code",
      "source": [
        "# 26\n",
        "\n",
        "class Solution(object):\n",
        "    def findGCD(self, nums):\n",
        "        \"\"\"\n",
        "        :type nums: List[int]\n",
        "        :rtype: int\n",
        "        \"\"\"\n",
        "        small_num, large_num = min(nums), max(nums)\n",
        "\n",
        "        while small_num != 0 and large_num != 0:\n",
        "            if small_num > large_num:\n",
        "                small_num %= large_num\n",
        "            else:\n",
        "                large_num %= small_num\n",
        "\n",
        "        return small_num + large_num\n"
      ],
      "metadata": {
        "id": "2NdOC1d1v-9u"
      },
      "execution_count": null,
      "outputs": []
    },
    {
      "cell_type": "markdown",
      "source": [
        "## 1837. Sum of Digits in Base K\n",
        "\n",
        "Given an integer n (in base 10) and a base k, return the sum of the digits of n after converting n from base 10 to base k.\n",
        "\n",
        "After converting, each digit should be interpreted as a base 10 number, and the sum should be returned in base 10."
      ],
      "metadata": {
        "id": "6ka71sWaJ3m6"
      }
    },
    {
      "cell_type": "code",
      "source": [
        "# 27\n",
        "\n",
        "class Solution(object):\n",
        "    def sumBase(self, n, k):\n",
        "        \"\"\"\n",
        "        :type n: int\n",
        "        :type k: int\n",
        "        :rtype: int\n",
        "        \"\"\"\n",
        "        s = 0\n",
        "        while n > 0:\n",
        "            s += n % k\n",
        "            n //= k\n",
        "\n",
        "        return s\n"
      ],
      "metadata": {
        "id": "hpgGibZpJ315"
      },
      "execution_count": null,
      "outputs": []
    },
    {
      "cell_type": "markdown",
      "source": [
        "## 1304. Find N Unique Integers Sum up to Zero\n",
        "\n",
        "Given an integer n, return any array containing n unique integers such that they add up to 0."
      ],
      "metadata": {
        "id": "et8CU3XxNmXB"
      }
    },
    {
      "cell_type": "code",
      "source": [
        "# 28\n",
        "\n",
        "class Solution(object):\n",
        "    def sumZero(self, n):\n",
        "        \"\"\"\n",
        "        :type n: int\n",
        "        :rtype: List[int]\n",
        "        \"\"\"\n",
        "        if n % 2 != 0:\n",
        "            arr0 = [0]\n",
        "            arr1 = [0] * ((n - 1) // 2)\n",
        "            arr2 = [0] * ((n - 1) // 2)\n",
        "            for i in range(n // 2):\n",
        "                arr1[i] += (i + 1)\n",
        "                arr2[i] -= (i + 1)\n",
        "            array = arr0 + arr1 + arr2\n",
        "            return array\n",
        "        else:\n",
        "            arr1 = [0] * (n // 2)\n",
        "            arr2 = [0] * (n // 2)\n",
        "            for i in range(n // 2):\n",
        "                arr1[i] += (i + 1)\n",
        "                arr2[i] -= (i + 1)\n",
        "            array = arr1 + arr2\n",
        "            return array\n"
      ],
      "metadata": {
        "id": "vHwllGxfNmmJ"
      },
      "execution_count": null,
      "outputs": []
    },
    {
      "cell_type": "markdown",
      "source": [
        "## 2169. Count Operations to Obtain Zero\n",
        "\n",
        "You are given two non-negative integers num1 and num2.\n",
        "\n",
        "In one operation, if num1 >= num2, you must subtract num2 from num1, otherwise subtract num1 from num2.\n",
        "\n",
        "* For example, if num1 = 5 and num2 = 4, subtract num2 from num1, thus obtaining num1 = 1 and num2 = 4. However, if num1 = 4 and num2 = 5, after one operation, num1 = 4 and num2 = 1.\n",
        "\n",
        "Return the number of operations required to make either num1 = 0 or num2 = 0."
      ],
      "metadata": {
        "id": "V9sz1ExhnMfk"
      }
    },
    {
      "cell_type": "code",
      "source": [
        "# 29\n",
        "\n",
        "class Solution(object):\n",
        "    def countOperations(self, num1, num2):\n",
        "        \"\"\"\n",
        "        :type num1: int\n",
        "        :type num2: int\n",
        "        :rtype: int\n",
        "        \"\"\"\n",
        "        count = 0\n",
        "        while num1 != 0 and num2 != 0:\n",
        "            count += 1\n",
        "            if num1 > num2:\n",
        "                num1 -= num2\n",
        "            else:\n",
        "                num2 -= num1\n",
        "\n",
        "        return count\n"
      ],
      "metadata": {
        "id": "hbClZ1BxnMsc"
      },
      "execution_count": null,
      "outputs": []
    },
    {
      "cell_type": "markdown",
      "source": [
        "## 2965. Find Missing and Repeated Values\n",
        "\n",
        "You are given a 0-indexed 2D integer matrix grid of size n * n with values in the range [1, n2]. Each integer appears exactly once except a which appears twice and b which is missing. The task is to find the repeating and missing numbers a and b.\n",
        "\n",
        "Return a 0-indexed integer array ans of size 2 where ans[0] equals to a and ans[1] equals to b."
      ],
      "metadata": {
        "id": "uTED73DjcvKJ"
      }
    },
    {
      "cell_type": "code",
      "source": [
        "# 30\n",
        "\n",
        "class Solution(object):\n",
        "    def findMissingAndRepeatedValues(self, grid):\n",
        "        \"\"\"\n",
        "        :type grid: List[List[int]]\n",
        "        :rtype: List[int]\n",
        "        \"\"\"\n",
        "        n = len(grid)\n",
        "        sum_of_n2 = ((1 + n ** 2) * n ** 2) / 2\n",
        "\n",
        "        array_grid_num = []\n",
        "        sum_of_grid = 0\n",
        "        for i in range(n):\n",
        "            for j in range(n):\n",
        "                sum_of_grid += grid[i][j]\n",
        "                array_grid_num.append(grid[i][j])\n",
        "\n",
        "        set_grid_num = list(set(array_grid_num))\n",
        "\n",
        "        repeated = sum_of_grid - sum(set_grid_num)\n",
        "        missed = sum_of_n2 - (sum_of_grid - repeated)\n",
        "\n",
        "        return [repeated, missed]\n"
      ],
      "metadata": {
        "id": "A2rXwH9_cvsw"
      },
      "execution_count": null,
      "outputs": []
    },
    {
      "cell_type": "markdown",
      "source": [
        "## 2843. Count Symmetric Integers\n",
        "\n",
        "You are given two positive integers low and high.\n",
        "\n",
        "An integer x consisting of 2 * n digits is symmetric if the sum of the first n digits of x is equal to the sum of the last n digits of x. Numbers with an odd number of digits are never symmetric.\n",
        "\n",
        "Return the number of symmetric integers in the range [low, high]."
      ],
      "metadata": {
        "id": "PuDAX4PkpaC2"
      }
    },
    {
      "cell_type": "code",
      "source": [
        "# 31\n",
        "\n",
        "class Solution(object):\n",
        "    def countSymmetricIntegers(self, low, high):\n",
        "        \"\"\"\n",
        "        :type low: int\n",
        "        :type high: int\n",
        "        :rtype: int\n",
        "        \"\"\"\n",
        "        count = 0\n",
        "        for x in range(low, high + 1):\n",
        "            str_x = str(x)\n",
        "            len_x = len(str_x)\n",
        "            if len_x % 2 == 0:\n",
        "                left_h = int(str_x[:len_x // 2:])\n",
        "                right_h = int(str_x[len_x // 2::])\n",
        "                s_left = 0\n",
        "                s_right = 0\n",
        "                while left_h > 0:\n",
        "                    s_left += left_h % 10\n",
        "                    left_h //= 10\n",
        "                while right_h > 0:\n",
        "                    s_right += right_h % 10\n",
        "                    right_h //= 10\n",
        "                if s_left == s_right:\n",
        "                    count += 1\n",
        "\n",
        "        return count\n"
      ],
      "metadata": {
        "id": "3sGvzjw5pac3"
      },
      "execution_count": null,
      "outputs": []
    },
    {
      "cell_type": "markdown",
      "source": [
        "## 2928. Distribute Candies Among Children I\n",
        "\n",
        "You are given two positive integers n and limit.\n",
        "\n",
        "Return the total number of ways to distribute n candies among 3 children such that no child gets more than limit candies."
      ],
      "metadata": {
        "id": "kGoeuCl0JmLx"
      }
    },
    {
      "cell_type": "code",
      "source": [
        "# 32\n",
        "\n",
        "class Solution(object):\n",
        "    def distributeCandies(self, n, limit):\n",
        "        \"\"\"\n",
        "        :type n: int\n",
        "        :type limit: int\n",
        "        :rtype: int\n",
        "        \"\"\"\n",
        "        count_distrib = 0\n",
        "        for sweet_1 in range(limit + 1):\n",
        "            for sweet_2 in range(limit + 1):\n",
        "                sweet_3 = n - (sweet_1 + sweet_2)\n",
        "                if sweet_1 + sweet_2 + sweet_3 == n and -1 < sweet_3 and sweet_3 <= limit:\n",
        "                    count_distrib += 1\n",
        "\n",
        "        return count_distrib\n"
      ],
      "metadata": {
        "id": "pUViTIGMJmp4"
      },
      "execution_count": null,
      "outputs": []
    },
    {
      "cell_type": "markdown",
      "source": [
        "## 2864. Maximum Odd Binary Number\n",
        "\n",
        "You are given a binary string s that contains at least one '1'.\n",
        "\n",
        "You have to rearrange the bits in such a way that the resulting binary number is the maximum odd binary number that can be created from this combination.\n",
        "\n",
        "Return a string representing the maximum odd binary number that can be created from the given combination.\n",
        "\n",
        "Note that the resulting string can have leading zeros."
      ],
      "metadata": {
        "id": "vC2I_bYufOFZ"
      }
    },
    {
      "cell_type": "code",
      "source": [
        "# 33\n",
        "\n",
        "class Solution(object):\n",
        "    def maximumOddBinaryNumber(self, s):\n",
        "        \"\"\"\n",
        "        :type s: str\n",
        "        :rtype: str\n",
        "        \"\"\"\n",
        "        return '1' * (s.count('1') - 1) + '0' * (s.count('0')) + '1'\n"
      ],
      "metadata": {
        "id": "jQHjK66vfTvB"
      },
      "execution_count": null,
      "outputs": []
    },
    {
      "cell_type": "markdown",
      "source": [
        "## 412. Fizz Buzz\n",
        "\n",
        "Given an integer n, return a string array answer (1-indexed) where:\n",
        "\n",
        "* answer[i] == \"FizzBuzz\" if i is divisible by 3 and 5.\n",
        "* answer[i] == \"Fizz\" if i is divisible by 3.\n",
        "* answer[i] == \"Buzz\" if i is divisible by 5.\n",
        "* answer[i] == i (as a string) if none of the above conditions are true."
      ],
      "metadata": {
        "id": "BBxl7y_cSmet"
      }
    },
    {
      "cell_type": "code",
      "source": [
        "# 34\n",
        "\n",
        "class Solution(object):\n",
        "    def fizzBuzz(self, n):\n",
        "        \"\"\"\n",
        "        :type n: int\n",
        "        :rtype: List[str]\n",
        "        \"\"\"\n",
        "        array = [x for x in range(1, n + 1)]\n",
        "        FizzBuzz_array = []\n",
        "        for i in array:\n",
        "            if i % 3 == 0 and i % 5 == 0:\n",
        "                FizzBuzz_array.append('FizzBuzz')\n",
        "            elif i % 3 == 0:\n",
        "                FizzBuzz_array.append('Fizz')\n",
        "            elif i % 5 == 0:\n",
        "                FizzBuzz_array.append('Buzz')\n",
        "            else:\n",
        "                FizzBuzz_array.append(str(i))\n",
        "\n",
        "        return FizzBuzz_array\n"
      ],
      "metadata": {
        "id": "cEgozG8ISmu3"
      },
      "execution_count": null,
      "outputs": []
    },
    {
      "cell_type": "markdown",
      "source": [
        "## 509. Fibonacci Number\n",
        "\n",
        "The Fibonacci numbers, commonly denoted F(n) form a sequence, called the Fibonacci sequence, such that each number is the sum of the two preceding ones, starting from 0 and 1. That is,\n",
        "\n",
        "* F(0) = 0, F(1) = 1\n",
        "* F(n) = F(n - 1) + F(n - 2), for n > 1.\n",
        "\n",
        "Given n, calculate F(n)."
      ],
      "metadata": {
        "id": "BPpMiN3R5_2s"
      }
    },
    {
      "cell_type": "code",
      "source": [
        "# 35\n",
        "\n",
        "class Solution(object):\n",
        "    def fib(self, n):\n",
        "        \"\"\"\n",
        "        :type n: int\n",
        "        :rtype: int\n",
        "        \"\"\"\n",
        "        if n != 0 and n != 1:\n",
        "            Fib_arr = [0, 1]\n",
        "            for i in range(2, n + 1):\n",
        "                Fib_arr.append(Fib_arr[i - 1] + Fib_arr[i - 2])\n",
        "            return Fib_arr[-1]\n",
        "        else:\n",
        "            return n\n"
      ],
      "metadata": {
        "id": "3tQ8vg566AKD"
      },
      "execution_count": null,
      "outputs": []
    },
    {
      "cell_type": "markdown",
      "source": [
        "## 908. Smallest Range I\n",
        "\n",
        "You are given an integer array nums and an integer k.\n",
        "\n",
        "In one operation, you can choose any index i where 0 <= i < nums.length and change nums[i] to nums[i] + x where x is an integer from the range [-k, k]. You can apply this operation at most once for each index i.\n",
        "\n",
        "The score of nums is the difference between the maximum and minimum elements in nums.\n",
        "\n",
        "Return the minimum score of nums after applying the mentioned operation at most once for each index in it."
      ],
      "metadata": {
        "id": "eQZCaLQJ2jl_"
      }
    },
    {
      "cell_type": "code",
      "source": [
        "# 36\n",
        "\n",
        "class Solution(object):\n",
        "    def smallestRangeI(self, nums, k):\n",
        "        \"\"\"\n",
        "        :type nums: List[int]\n",
        "        :type k: int\n",
        "        :rtype: int\n",
        "        \"\"\"\n",
        "        max_ni = max(nums) - k\n",
        "        min_ni = min(nums) + k\n",
        "\n",
        "        return max(0, max_ni - min_ni)\n"
      ],
      "metadata": {
        "id": "40NNEnVu2j5t"
      },
      "execution_count": null,
      "outputs": []
    },
    {
      "cell_type": "markdown",
      "source": [
        "## 2578. Split With Minimum Sum\n",
        "\n",
        "Given a positive integer num, split it into two non-negative integers num1 and num2 such that:\n",
        "\n",
        "* The concatenation of num1 and num2 is a permutation of num.\n",
        "* In other words, the sum of the number of occurrences of each digit in num1 and num2 is equal to the number of occurrences of that digit in num.\n",
        "* num1 and num2 can contain leading zeros.\n",
        "\n",
        "Return the minimum possible sum of num1 and num2.\n",
        "\n",
        "Notes:\n",
        "* It is guaranteed that num does not contain any leading zeros.\n",
        "* The order of occurrence of the digits in num1 and num2 may differ from the order of occurrence of num."
      ],
      "metadata": {
        "id": "P30aY-7ZhseT"
      }
    },
    {
      "cell_type": "code",
      "source": [
        "# 37\n",
        "\n",
        "class Solution(object):\n",
        "    def splitNum(self, num):\n",
        "        \"\"\"\n",
        "        :type num: int\n",
        "        :rtype: int\n",
        "        \"\"\"\n",
        "        first_num = ''\n",
        "        second_num = ''\n",
        "        num = str(num)\n",
        "        num= sorted(num)\n",
        "        for i, num in enumerate(num):\n",
        "            if i % 2 == 0:\n",
        "                first_num += num\n",
        "            else:\n",
        "                second_num += num\n",
        "        if first_num == '' and second_num == '':\n",
        "            first_num = 0\n",
        "            second_num = 0\n",
        "\n",
        "        return int(first_num) + int(second_num)\n"
      ],
      "metadata": {
        "id": "kek3NZiPhsun"
      },
      "execution_count": null,
      "outputs": []
    },
    {
      "cell_type": "markdown",
      "source": [
        "## 762. Prime Number of Set Bits in Binary Representation\n",
        "\n",
        "Given two integers left and right, return the count of numbers in the inclusive range [left, right] having a prime number of set bits in their binary representation.\n",
        "\n",
        "Recall that the number of set bits an integer has is the number of 1's present when written in binary.\n",
        "\n",
        "* For example, 21 written in binary is 10101, which has 3 set bits."
      ],
      "metadata": {
        "id": "E3IJOXCMhQvv"
      }
    },
    {
      "cell_type": "code",
      "source": [
        "# 38\n",
        "\n",
        "class Solution(object):\n",
        "    def countPrimeSetBits(self, left, right):\n",
        "        \"\"\"\n",
        "        :type left: int\n",
        "        :type right: int\n",
        "        :rtype: int\n",
        "        \"\"\"\n",
        "        def is_prime(n):\n",
        "            for i in range(2, int(n ** 0.5) + 1):\n",
        "                if n % i == 0:\n",
        "                    return False\n",
        "            return True\n",
        "\n",
        "\n",
        "        count = 0\n",
        "        for num in range(left, right + 1):\n",
        "            x_b10 = num\n",
        "            x_b2 = ''\n",
        "            while x_b10 > 0:\n",
        "                x_b2 += str(x_b10 % 2)\n",
        "                x_b10 //= 2\n",
        "            x_b2 = x_b2[::-1]\n",
        "            print(x_b2)\n",
        "            if is_prime(x_b2.count('1')) and x_b2.count('1') > 1:\n",
        "                count += 1\n",
        "\n",
        "        return count\n"
      ],
      "metadata": {
        "id": "gR55WsMThRBk"
      },
      "execution_count": null,
      "outputs": []
    },
    {
      "cell_type": "markdown",
      "source": [
        "## 2544. Alternating Digit Sum\n",
        "\n",
        "You are given a positive integer n. Each digit of n has a sign according to the following rules:\n",
        "\n",
        "* The most significant digit is assigned a positive sign.\n",
        "* Each other digit has an opposite sign to its adjacent digits.\n",
        "\n",
        "Return the sum of all digits with their corresponding sign."
      ],
      "metadata": {
        "id": "SdZ423qt1Uz-"
      }
    },
    {
      "cell_type": "code",
      "source": [
        "# 39\n",
        "\n",
        "class Solution(object):\n",
        "    def alternateDigitSum(self, n):\n",
        "        \"\"\"\n",
        "        :type n: int\n",
        "        :rtype: int\n",
        "        \"\"\"\n",
        "        str_n = str(n)\n",
        "        s = 0\n",
        "        for i, x in enumerate(str_n):\n",
        "            x = int(x)\n",
        "            if i % 2 == 0:\n",
        "                s += x\n",
        "            else:\n",
        "                s += (-x)\n",
        "\n",
        "        return s\n"
      ],
      "metadata": {
        "id": "UBhv_fC11Wqi"
      },
      "execution_count": null,
      "outputs": []
    },
    {
      "cell_type": "markdown",
      "source": [
        "## 1925. Count Square Sum Triples\n",
        "\n",
        "A square triple (a,b,c) is a triple where a, b, and c are integers and a2 + b2 = c2.\n",
        "\n",
        "Given an integer n, return the number of square triples such that 1 <= a, b, c <= n."
      ],
      "metadata": {
        "id": "UnyOswXYjLWG"
      }
    },
    {
      "cell_type": "code",
      "source": [
        "# 40\n",
        "\n",
        "class Solution(object):\n",
        "    def countTriples(self, n):\n",
        "        \"\"\"\n",
        "        :type n: int\n",
        "        :rtype: int\n",
        "        \"\"\"\n",
        "        count = 0\n",
        "        for a in range(1, n):\n",
        "            for b in range(a + 1, n):\n",
        "                r = (a ** 2 + b ** 2) ** 0.5\n",
        "                if int(r) <= n and int(r) == r:\n",
        "                    count += 2\n",
        "\n",
        "        return count\n"
      ],
      "metadata": {
        "id": "4AmWGQONjLnL"
      },
      "execution_count": null,
      "outputs": []
    },
    {
      "cell_type": "markdown",
      "source": [
        "## 2180. Count Integers With Even Digit Sum\n",
        "\n",
        "Given a positive integer num, return the number of positive integers less than or equal to num whose digit sums are even.\n",
        "\n",
        "The digit sum of a positive integer is the sum of all its digits."
      ],
      "metadata": {
        "id": "37Sh3bCuCy1c"
      }
    },
    {
      "cell_type": "code",
      "source": [
        "# 41\n",
        "\n",
        "class Solution(object):\n",
        "    def countEven(self, num):\n",
        "        \"\"\"\n",
        "        :type num: int\n",
        "        :rtype: int\n",
        "        \"\"\"\n",
        "        count = 0\n",
        "        for i in range(1, num + 1):\n",
        "            x = i\n",
        "            s = 0\n",
        "            while x > 0:\n",
        "                s += x % 10\n",
        "                x //= 10\n",
        "            if s % 2 == 0:\n",
        "                count += 1\n",
        "\n",
        "        return count\n"
      ],
      "metadata": {
        "id": "oIseRw14CzN6"
      },
      "execution_count": null,
      "outputs": []
    },
    {
      "cell_type": "markdown",
      "source": [
        "## 1399. Count Largest Group\n",
        "\n",
        "You are given an integer n.\n",
        "\n",
        "Each number from 1 to n is grouped according to the sum of its digits.\n",
        "\n",
        "Return the number of groups that have the largest size."
      ],
      "metadata": {
        "id": "3htrWKluG-cP"
      }
    },
    {
      "cell_type": "code",
      "source": [
        "# 42\n",
        "\n",
        "class Solution(object):\n",
        "    def countLargestGroup(self, n):\n",
        "        \"\"\"\n",
        "        :type n: int\n",
        "        :rtype: int\n",
        "        \"\"\"\n",
        "        c = 0\n",
        "\n",
        "        arr = []\n",
        "        for num in range(1, n + 1):\n",
        "            x = num\n",
        "            s = 0\n",
        "            while x > 0:\n",
        "                s += x % 10\n",
        "                x //= 10\n",
        "            arr.append(s)\n",
        "\n",
        "        max_arr = max(arr)\n",
        "        min_arr = min(arr)\n",
        "        dict_c = {}\n",
        "        for i in range(min_arr, max_arr + 1):\n",
        "            dict_c[i] = arr.count(i)\n",
        "\n",
        "        max_c = max(dict_c.values())\n",
        "        for i in range(min_arr, max_arr + 1):\n",
        "            if dict_c[i] == max_c:\n",
        "                c += 1\n",
        "\n",
        "        return c\n"
      ],
      "metadata": {
        "id": "kpJ8i4siG-qo"
      },
      "execution_count": null,
      "outputs": []
    },
    {
      "cell_type": "markdown",
      "source": [
        "## 258. Add Digits\n",
        "\n",
        "Given an integer num, repeatedly add all its digits until the result has only one digit, and return it."
      ],
      "metadata": {
        "id": "NrsTu9cjKkZx"
      }
    },
    {
      "cell_type": "code",
      "source": [
        "# 43\n",
        "\n",
        "class Solution(object):\n",
        "    def addDigits(self, num):\n",
        "        \"\"\"\n",
        "        :type num: int\n",
        "        :rtype: int\n",
        "        \"\"\"\n",
        "        x = num\n",
        "        while x > 9:\n",
        "            s = 0\n",
        "            while x > 0:\n",
        "                s += x % 10\n",
        "                x //= 10\n",
        "            x = s\n",
        "        return x\n"
      ],
      "metadata": {
        "id": "PUe-gw8hKksX"
      },
      "execution_count": null,
      "outputs": []
    },
    {
      "cell_type": "markdown",
      "source": [
        "## 268. Missing Number\n",
        "\n",
        "Given an array nums containing n distinct numbers in the range [0, n], return the only number in the range that is missing from the array."
      ],
      "metadata": {
        "id": "dJH9bB9oGTGe"
      }
    },
    {
      "cell_type": "code",
      "source": [
        "# 44\n",
        "\n",
        "class Solution(object):\n",
        "    def missingNumber(self, nums):\n",
        "        \"\"\"\n",
        "        :type nums: List[int]\n",
        "        :rtype: int\n",
        "        \"\"\"\n",
        "        n = len(nums) + 1\n",
        "        sum_n = sum([num for num in range(n)])\n",
        "        sum_n_minus_1 = sum(nums)\n",
        "\n",
        "        return sum_n - sum_n_minus_1\n"
      ],
      "metadata": {
        "id": "_mdf2jzaGTWe"
      },
      "execution_count": null,
      "outputs": []
    },
    {
      "cell_type": "markdown",
      "source": [
        "## 1822. Sign of the Product of an Array\n",
        "\n",
        "There is a function signFunc(x) that returns:\n",
        "\n",
        "* 1 if x is positive.\n",
        "* -1 if x is negative.\n",
        "* 0 if x is equal to 0.\n",
        "\n",
        "You are given an integer array nums. Let product be the product of all values in the array nums.\n",
        "\n",
        "Return signFunc(product)."
      ],
      "metadata": {
        "id": "JICdDQn5nx9-"
      }
    },
    {
      "cell_type": "code",
      "source": [
        "# 45\n",
        "\n",
        "class Solution(object):\n",
        "    def arraySign(self, nums):\n",
        "        \"\"\"\n",
        "        :type nums: List[int]\n",
        "        :rtype: int\n",
        "        \"\"\"\n",
        "        if 0 in set(nums):\n",
        "            return 0\n",
        "        elif len([num for num in nums if num < 0]) % 2 == 0:\n",
        "            return 1\n",
        "        else:\n",
        "            return -1\n"
      ],
      "metadata": {
        "id": "8OjH2JJ4nyQH"
      },
      "execution_count": null,
      "outputs": []
    },
    {
      "cell_type": "markdown",
      "source": [
        "## 171. Excel Sheet Column Number\n",
        "\n",
        "Given a string columnTitle that represents the column title as appears in an Excel sheet, return its corresponding column number.\n",
        "\n",
        "For example:\n",
        "\n",
        "* A -> 1\n",
        "* B -> 2\n",
        "* C -> 3\n",
        "* ...\n",
        "* Z -> 26\n",
        "* AA -> 27\n",
        "* AB -> 28\n",
        "* ..."
      ],
      "metadata": {
        "id": "njrcsgLM2s_s"
      }
    },
    {
      "cell_type": "code",
      "source": [
        "# 46\n",
        "\n",
        "class Solution(object):\n",
        "    def titleToNumber(self, columnTitle):\n",
        "        \"\"\"\n",
        "        :type columnTitle: str\n",
        "        :rtype: int\n",
        "        \"\"\"\n",
        "        return sum([(ord(columnTitle[::-1][c]) - 64) * (26 ** c) for c in range(len(columnTitle))])\n"
      ],
      "metadata": {
        "id": "6qvlENdQ2tcO"
      },
      "execution_count": null,
      "outputs": []
    },
    {
      "cell_type": "markdown",
      "source": [
        "## 1137. N-th Tribonacci Number\n",
        "\n",
        "The Tribonacci sequence Tn is defined as follows:\n",
        "\n",
        "T0 = 0, T1 = 1, T2 = 1, and Tn+3 = Tn + Tn+1 + Tn+2 for n >= 0.\n",
        "\n",
        "Given n, return the value of Tn."
      ],
      "metadata": {
        "id": "iVh1PhJElZ6z"
      }
    },
    {
      "cell_type": "code",
      "source": [
        "# 47\n",
        "\n",
        "class Solution(object):\n",
        "    def tribonacci(self, n):\n",
        "        \"\"\"\n",
        "        :type n: int\n",
        "        :rtype: int\n",
        "        \"\"\"\n",
        "        Trib_nums = [0, 1, 1]\n",
        "        for i in range(3, n + 1):\n",
        "            Trib_nums.append(Trib_nums[i - 3] + Trib_nums[i - 2] + Trib_nums[i - 1])\n",
        "\n",
        "        return Trib_nums[n]\n"
      ],
      "metadata": {
        "id": "tEqlzh3ylaM_"
      },
      "execution_count": null,
      "outputs": []
    },
    {
      "cell_type": "markdown",
      "source": [
        "## 1903. Largest Odd Number in String\n",
        "\n",
        "You are given a string num, representing a large integer. Return the largest-valued odd integer (as a string) that is a non-empty substring of num, or an empty string \"\" if no odd integer exists.\n",
        "\n",
        "A substring is a contiguous sequence of characters within a string."
      ],
      "metadata": {
        "id": "LFFjM9FotCpu"
      }
    },
    {
      "cell_type": "code",
      "source": [
        "# 48\n",
        "\n",
        "class Solution(object):\n",
        "    def largestOddNumber(self, num):\n",
        "        \"\"\"\n",
        "        :type num: str\n",
        "        :rtype: str\n",
        "        \"\"\"\n",
        "        for i in range(len(num) - 1, - 1, - 1):\n",
        "            if num[i] in set(['1', '3', '5', '7', '9']):\n",
        "                return num[:i + 1]\n",
        "        return \"\"\n"
      ],
      "metadata": {
        "id": "TXhxbkFttC5z"
      },
      "execution_count": null,
      "outputs": []
    },
    {
      "cell_type": "markdown",
      "source": [
        "## 1952. Three Divisors\n",
        "\n",
        "Given an integer n, return true if n has exactly three positive divisors. Otherwise, return false.\n",
        "\n",
        "An integer m is a divisor of n if there exists an integer k such that n = k * m."
      ],
      "metadata": {
        "id": "OGKX7ZJAVZs5"
      }
    },
    {
      "cell_type": "code",
      "source": [
        "# 49\n",
        "\n",
        "class Solution(object):\n",
        "    def isThree(self, n):\n",
        "        \"\"\"\n",
        "        :type n: int\n",
        "        :rtype: bool\n",
        "        \"\"\"\n",
        "        def divisors(n):\n",
        "            c = 0\n",
        "            for i in range(1, int(n ** 0.5) + 1):\n",
        "                if n % i == 0:\n",
        "                    c += 1\n",
        "                    if n // i != i:\n",
        "                        c += 1\n",
        "            return c == 3\n",
        "\n",
        "\n",
        "        if divisors(n):\n",
        "            return True\n",
        "        else:\n",
        "            return False\n"
      ],
      "metadata": {
        "id": "yCHGLhyRVahH"
      },
      "execution_count": null,
      "outputs": []
    },
    {
      "cell_type": "markdown",
      "source": [
        "## 2455. Average Value of Even Numbers That Are Divisible by Three\n",
        "\n",
        "Given an integer array nums of positive integers, return the average value of all even integers that are divisible by 3.\n",
        "\n",
        "Note that the average of n elements is the sum of the n elements divided by n and rounded down to the nearest integer."
      ],
      "metadata": {
        "id": "u8O-8QtNKnBE"
      }
    },
    {
      "cell_type": "code",
      "source": [
        "# 50\n",
        "\n",
        "class Solution(object):\n",
        "    def averageValue(self, nums):\n",
        "        \"\"\"\n",
        "        :type nums: List[int]\n",
        "        :rtype: int\n",
        "        \"\"\"\n",
        "        even_nums_div_3 = [num for num in nums if num % 6 == 0]\n",
        "        if len(even_nums_div_3) > 0:\n",
        "            return sum(even_nums_div_3) / len(even_nums_div_3)\n",
        "        else:\n",
        "            return 0\n"
      ],
      "metadata": {
        "id": "vQfnkME_KnZg"
      },
      "execution_count": null,
      "outputs": []
    },
    {
      "cell_type": "markdown",
      "source": [
        "## 2549. Count Distinct Numbers on Board\n",
        "\n",
        "You are given a positive integer n, that is initially placed on a board. Every day, for 109 days, you perform the following procedure:\n",
        "\n",
        "* For each number x present on the board, find all numbers 1 <= i <= n such that x % i == 1.\n",
        "* Then, place those numbers on the board.\n",
        "\n",
        "Return the number of distinct integers present on the board after 109 days have elapsed.\n",
        "\n",
        "Note:\n",
        "\n",
        "* Once a number is placed on the board, it will remain on it until the end.\n",
        "* % stands for the modulo operation. For example, 14 % 3 is 2."
      ],
      "metadata": {
        "id": "-dgPE6N1g7rI"
      }
    },
    {
      "cell_type": "code",
      "source": [
        "# 51\n",
        "\n",
        "class Solution(object):\n",
        "    def distinctIntegers(self, n):\n",
        "        \"\"\"\n",
        "        :type n: int\n",
        "        :rtype: int\n",
        "        \"\"\"\n",
        "        return (n - 1) * (n > 1) + 1 * (n <= 1)\n"
      ],
      "metadata": {
        "id": "_Bk9FkgEg7-x"
      },
      "execution_count": null,
      "outputs": []
    },
    {
      "cell_type": "markdown",
      "source": [
        "## 2566. Maximum Difference by Remapping a Digit\n",
        "\n",
        "You are given an integer num. You know that Bob will sneakily remap one of the 10 possible digits (0 to 9) to another digit.\n",
        "\n",
        "Return the difference between the maximum and minimum values Bob can make by remapping exactly one digit in num.\n",
        "\n",
        "Notes:\n",
        "\n",
        "* When Bob remaps a digit d1 to another digit d2, Bob replaces all occurrences of d1 in num with d2.\n",
        "* Bob can remap a digit to itself, in which case num does not change.\n",
        "* Bob can remap different digits for obtaining minimum and maximum values respectively.\n",
        "* The resulting number after remapping can contain leading zeroes."
      ],
      "metadata": {
        "id": "gB_vmhQTT1lX"
      }
    },
    {
      "cell_type": "code",
      "source": [
        "# 52\n",
        "\n",
        "class Solution(object):\n",
        "    def minMaxDifference(self, num):\n",
        "        \"\"\"\n",
        "        :type num: int\n",
        "        :rtype: int\n",
        "        \"\"\"\n",
        "        num_str_min = num\n",
        "        num_str_max = num\n",
        "        num = str(num)\n",
        "        for digit in num:\n",
        "            if digit < '9':\n",
        "                num_str_max = int(num.replace(digit, '9'))\n",
        "                break\n",
        "        for digit in num:\n",
        "            if digit != '0':\n",
        "                num_str_min = int(num.replace(digit, '0'))\n",
        "                break\n",
        "\n",
        "        return num_str_max - num_str_min\n"
      ],
      "metadata": {
        "id": "tssekrMMT1z7"
      },
      "execution_count": null,
      "outputs": []
    },
    {
      "cell_type": "markdown",
      "source": [
        "## 2269. Find the K-Beauty of a Number\n",
        "\n",
        "The k-beauty of an integer num is defined as the number of substrings of num when it is read as a string that meet the following conditions:\n",
        "\n",
        "* It has a length of k.\n",
        "* It is a divisor of num.\n",
        "\n",
        "Given integers num and k, return the k-beauty of num.\n",
        "\n",
        "Note:\n",
        "\n",
        "* Leading zeros are allowed.\n",
        "* 0 is not a divisor of any value.\n",
        "\n",
        "A substring is a contiguous sequence of characters in a string."
      ],
      "metadata": {
        "id": "S0EuhOeL90Fs"
      }
    },
    {
      "cell_type": "code",
      "source": [
        "# 53\n",
        "\n",
        "class Solution(object):\n",
        "    def divisorSubstrings(self, num, k):\n",
        "        \"\"\"\n",
        "        :type num: int\n",
        "        :type k: int\n",
        "        :rtype: int\n",
        "        \"\"\"\n",
        "        i = 0\n",
        "        j = k\n",
        "        num = str(num)\n",
        "        count = 0\n",
        "        while j <= len(num):\n",
        "            n = int(num[i:j])\n",
        "            if not n:\n",
        "                i += 1\n",
        "                j += 1\n",
        "                continue\n",
        "            if int(num) % n == 0:\n",
        "                count += 1\n",
        "            i += 1\n",
        "            j += 1\n",
        "\n",
        "        return count\n"
      ],
      "metadata": {
        "id": "RzRFdeet90WA"
      },
      "execution_count": null,
      "outputs": []
    },
    {
      "cell_type": "markdown",
      "source": [
        "## 1185. Day of the Week\n",
        "\n",
        "Given a date, return the corresponding day of the week for that date.\n",
        "\n",
        "The input is given as three integers representing the day, month and year respectively.\n",
        "\n",
        "Return the answer as one of the following values {\"Sunday\", \"Monday\", \"Tuesday\", \"Wednesday\", \"Thursday\", \"Friday\", \"Saturday\"}."
      ],
      "metadata": {
        "id": "LbE51XEJqife"
      }
    },
    {
      "cell_type": "code",
      "source": [
        "# 54\n",
        "\n",
        "import datetime\n",
        "\n",
        "\n",
        "class Solution(object):\n",
        "    def dayOfTheWeek(self, day, month, year):\n",
        "        \"\"\"\n",
        "        :type day: int\n",
        "        :type month: int\n",
        "        :type year: int\n",
        "        :rtype: str\n",
        "        \"\"\"\n",
        "\n",
        "        date = datetime.datetime(year, month, day)\n",
        "        return date.strftime(\"%A\")\n"
      ],
      "metadata": {
        "id": "nFCoyaiQqivd"
      },
      "execution_count": null,
      "outputs": []
    },
    {
      "cell_type": "markdown",
      "source": [
        "## 492. Construct the Rectangle\n",
        "\n",
        "A web developer needs to know how to design a web page's size. So, given a specific rectangular web page’s area, your job by now is to design a rectangular web page, whose length L and width W satisfy the following requirements:\n",
        "\n",
        "1. The area of the rectangular web page you designed must equal to the given target area.\n",
        "2. The width W should not be larger than the length L, which means L >= W.\n",
        "3. The difference between length L and width W should be as small as possible.\n",
        "\n",
        "Return an array [L, W] where L and W are the length and width of the web page you designed in sequence."
      ],
      "metadata": {
        "id": "SS8WRwXvLAs3"
      }
    },
    {
      "cell_type": "code",
      "source": [
        "# 55\n",
        "\n",
        "class Solution(object):\n",
        "    def constructRectangle(self, area):\n",
        "        \"\"\"\n",
        "        :type area: int\n",
        "        :rtype: List[int]\n",
        "        \"\"\"\n",
        "        def div(n):\n",
        "            d = []\n",
        "            for i in range(1, int(n ** 0.5) + 1):\n",
        "                if n % i == 0:\n",
        "                    d.append(i)\n",
        "                    if i != n // i:\n",
        "                        d.append(n // i)\n",
        "            return d\n",
        "\n",
        "\n",
        "        min_diff = 10000000000000000\n",
        "        div_area = div(area)\n",
        "        div_area = sorted(div_area)[::-1]\n",
        "        for i in range(len(div_area)):\n",
        "            if div_area[i] >= area // div_area[i]:\n",
        "                if div_area[i] - area // div_area[i] < min_diff:\n",
        "                    min_diff = div_area[i] - area // div_area[i]\n",
        "                    ans = [div_area[i], area // div_area[i]]\n",
        "\n",
        "        return ans\n"
      ],
      "metadata": {
        "id": "IzCtNrD_LA6X"
      },
      "execution_count": null,
      "outputs": []
    },
    {
      "cell_type": "markdown",
      "source": [
        "## 1175. Prime Arrangements\n",
        "\n",
        "Return the number of permutations of 1 to n so that prime numbers are at prime indices (1-indexed.)\n",
        "\n",
        "*(Recall that an integer is prime if and only if it is greater than 1, and cannot be written as a product of two positive integers both smaller than it.)*\n",
        "\n",
        "Since the answer may be large, return the answer modulo 10^9 + 7."
      ],
      "metadata": {
        "id": "4tSmNielZCaW"
      }
    },
    {
      "cell_type": "code",
      "source": [
        "# 56\n",
        "\n",
        "class Solution(object):\n",
        "    def numPrimeArrangements(self, n):\n",
        "        \"\"\"\n",
        "        :type n: int\n",
        "        :rtype: int\n",
        "        \"\"\"\n",
        "        def fact(n):\n",
        "            f = 1\n",
        "            for i in range(1, n + 1):\n",
        "                f *= i\n",
        "            return f\n",
        "\n",
        "\n",
        "        def primes(n):\n",
        "            p = []\n",
        "            for i in range(2, int(n ** 0.5) + 1):\n",
        "                if n % i == 0:\n",
        "                    return False\n",
        "            return True\n",
        "\n",
        "\n",
        "        prime_num = set([primes(x) * x for x in range(2, n + 1)])\n",
        "\n",
        "        a, b = 0, 0\n",
        "        for i in range(1, n + 1):\n",
        "            if i in prime_num:\n",
        "                a += 1\n",
        "            else:\n",
        "                b += 1\n",
        "\n",
        "        return (fact(a) * fact(b)) % (10**9 + 7)\n"
      ],
      "metadata": {
        "id": "eUL1nccUZCov"
      },
      "execution_count": null,
      "outputs": []
    },
    {
      "cell_type": "markdown",
      "source": [
        "## 67. Add Binary\n",
        "\n",
        "Given two binary strings a and b, return their sum as a binary string."
      ],
      "metadata": {
        "id": "yd9tEp7xlObw"
      }
    },
    {
      "cell_type": "code",
      "source": [
        "# 57\n",
        "\n",
        "class Solution(object):\n",
        "    def addBinary(self, a, b):\n",
        "        \"\"\"\n",
        "        :type a: str\n",
        "        :type b: str\n",
        "        :rtype: str\n",
        "        \"\"\"\n",
        "        a, b = int(a, 2), int(b, 2)\n",
        "        c = a + b\n",
        "        if c > 0:\n",
        "            str_c_b2 = ''\n",
        "            while c > 0:\n",
        "                str_c_b2 += str(c % 2)\n",
        "                c //= 2\n",
        "            return str_c_b2[::-1]\n",
        "        else:\n",
        "            return '0'\n"
      ],
      "metadata": {
        "id": "Cp1qN85ZlOrt"
      },
      "execution_count": null,
      "outputs": []
    },
    {
      "cell_type": "markdown",
      "source": [
        "## 9. Palindrome Number\n",
        "\n",
        "Given an integer x, return true if x is a palindrome, and false otherwise."
      ],
      "metadata": {
        "id": "VBdxpu5JSKUB"
      }
    },
    {
      "cell_type": "code",
      "source": [
        "# 58\n",
        "\n",
        "class Solution(object):\n",
        "    def isPalindrome(self, x):\n",
        "        return str(x) == str(x)[::-1]\n"
      ],
      "metadata": {
        "id": "90nUdCM0SKn4"
      },
      "execution_count": null,
      "outputs": []
    },
    {
      "cell_type": "markdown",
      "source": [
        "## 202. Happy Number\n",
        "\n",
        "Write an algorithm to determine if a number n is happy.\n",
        "\n",
        "A happy number is a number defined by the following process:\n",
        "\n",
        "* Starting with any positive integer, replace the number by the sum of the squares of its digits.\n",
        "* Repeat the process until the number equals 1 (where it will stay), or it loops endlessly in a cycle which does not include 1.\n",
        "* Those numbers for which this process ends in 1 are happy.\n",
        "\n",
        "Return true if n is a happy number, and false if not."
      ],
      "metadata": {
        "id": "8WBJlkkrrkAY"
      }
    },
    {
      "cell_type": "code",
      "source": [
        "# 59\n",
        "\n",
        "class Solution(object):\n",
        "    def isHappy(self, n):\n",
        "        \"\"\"\n",
        "        :type n: int\n",
        "        :rtype: bool\n",
        "        \"\"\"\n",
        "        if n == 1:\n",
        "            return True\n",
        "        else:\n",
        "            flag = False\n",
        "            loops_numbers = {n}\n",
        "            while n != 1:\n",
        "                x = n\n",
        "                digits_x = []\n",
        "                while x > 0:\n",
        "                    digits_x.append(x % 10)\n",
        "                    x //= 10\n",
        "                sum_digits2_x = sum([digit ** 2 for digit in digits_x])\n",
        "                if sum_digits2_x == 1:\n",
        "                    flag = True\n",
        "                    break\n",
        "                else:\n",
        "                    if sum_digits2_x not in loops_numbers:\n",
        "                        n = sum_digits2_x\n",
        "                        loops_numbers.add(n)\n",
        "                    else:\n",
        "                        break\n",
        "\n",
        "        return flag\n"
      ],
      "metadata": {
        "id": "Pv5BNX6TrkQP"
      },
      "execution_count": null,
      "outputs": []
    },
    {
      "cell_type": "markdown",
      "source": [
        "## 976. Largest Perimeter Triangle\n",
        "\n",
        "Given an integer array nums, return the largest perimeter of a triangle with a non-zero area, formed from three of these lengths. If it is impossible to form any triangle of a non-zero area, return 0."
      ],
      "metadata": {
        "id": "9HvPAaemwfDS"
      }
    },
    {
      "cell_type": "code",
      "source": [
        "# 60\n",
        "\n",
        "class Solution(object):\n",
        "    def largestPerimeter(self, nums):\n",
        "        \"\"\"\n",
        "        :type nums: List[int]\n",
        "        :rtype: int\n",
        "        \"\"\"\n",
        "        nums = sorted(nums)[::-1]\n",
        "        n = len(nums)\n",
        "        for i in range(n - 2):\n",
        "            if nums[i + 1] + nums[i + 2] > nums[i]:\n",
        "                return nums[i + 1] + nums[i + 2] + nums[i]\n",
        "\n",
        "        return 0\n"
      ],
      "metadata": {
        "id": "hrhf7vYKwfSI"
      },
      "execution_count": null,
      "outputs": []
    },
    {
      "cell_type": "markdown",
      "source": [
        "## 1317. Convert Integer to the Sum of Two No-Zero Integers\n",
        "\n",
        "No-Zero integer is a positive integer that does not contain any 0 in its decimal representation.\n",
        "\n",
        "Given an integer n, return a list of two integers [a, b] where:\n",
        "\n",
        "* a and b are No-Zero integers.\n",
        "* a + b = n\n",
        "\n",
        "The test cases are generated so that there is at least one valid solution. If there are many valid solutions, you can return any of them."
      ],
      "metadata": {
        "id": "bv0WQnJT31eQ"
      }
    },
    {
      "cell_type": "code",
      "source": [
        "# 61\n",
        "\n",
        "class Solution(object):\n",
        "    def getNoZeroIntegers(self, n):\n",
        "        \"\"\"\n",
        "        :type n: int\n",
        "        :rtype: List[int]\n",
        "        \"\"\"\n",
        "        for a in range(1, n + 1):\n",
        "            b = n - a\n",
        "            str_a = str(a)\n",
        "            str_b = str(b)\n",
        "            if '0' not in str_b and '0' not in str_a:\n",
        "                return [a, b]\n",
        "                break\n"
      ],
      "metadata": {
        "id": "Q9ant3Vf314f"
      },
      "execution_count": null,
      "outputs": []
    },
    {
      "cell_type": "markdown",
      "source": [
        "## 70. Climbing Stairs\n",
        "\n",
        "You are climbing a staircase. It takes n steps to reach the top.\n",
        "\n",
        "Each time you can either climb 1 or 2 steps. In how many distinct ways can you climb to the top?"
      ],
      "metadata": {
        "id": "OTEMw-wiURTo"
      }
    },
    {
      "cell_type": "code",
      "source": [
        "# 62\n",
        "\n",
        "class Solution(object):\n",
        "    def climbStairs(self, n):\n",
        "        \"\"\"\n",
        "        :type n: int\n",
        "        :rtype: int\n",
        "        \"\"\"\n",
        "        a, b, c = 0, 1, 0\n",
        "        for i in range(n):\n",
        "            c = a + b\n",
        "            a = b\n",
        "            b = c\n",
        "\n",
        "        return b\n"
      ],
      "metadata": {
        "id": "TTOdvGxzURlv"
      },
      "execution_count": null,
      "outputs": []
    },
    {
      "cell_type": "markdown",
      "source": [
        "## 415. Add Strings\n",
        "\n",
        "Given two non-negative integers, num1 and num2 represented as string, return the sum of num1 and num2 as a string.\n",
        "\n",
        "You must solve the problem without using any built-in library for handling large integers (such as BigInteger). You must also not convert the inputs to integers directly."
      ],
      "metadata": {
        "id": "I-JsJpG4I-wA"
      }
    },
    {
      "cell_type": "code",
      "source": [
        "# 63\n",
        "\n",
        "class Solution(object):\n",
        "    def addStrings(self, num1, num2):\n",
        "        \"\"\"\n",
        "        :type num1: str\n",
        "        :type num2: str\n",
        "        :rtype: str\n",
        "        \"\"\"\n",
        "        return str(int(num1) + int(num2))\n"
      ],
      "metadata": {
        "id": "mqYnSnQSI_Eg"
      },
      "execution_count": null,
      "outputs": []
    },
    {
      "cell_type": "markdown",
      "source": [
        "## 2481. Minimum Cuts to Divide a Circle\n",
        "\n",
        "A valid cut in a circle can be:\n",
        "\n",
        "* A cut that is represented by a straight line that touches two points on the edge of the circle and passes through its center, or\n",
        "* A cut that is represented by a straight line that touches one point on the edge of the circle and its center.\n",
        "\n",
        "Some valid and invalid cuts are shown in the figures below.\n",
        "\n",
        "Given the integer n, return the minimum number of cuts needed to divide a circle into n equal slices."
      ],
      "metadata": {
        "id": "rBe-uE6QpMAB"
      }
    },
    {
      "cell_type": "code",
      "source": [
        "# 64\n",
        "\n",
        "class Solution(object):\n",
        "    def numberOfCuts(self, n):\n",
        "        \"\"\"\n",
        "        :type n: int\n",
        "        :rtype: int\n",
        "        \"\"\"\n",
        "        if n == 1:\n",
        "            return 0\n",
        "        return (n // 2) * (n % 2 == 0) + n * (n % 2 != 0)\n"
      ],
      "metadata": {
        "id": "fy_MuvOjpMUX"
      },
      "execution_count": null,
      "outputs": []
    },
    {
      "cell_type": "markdown",
      "source": [
        "## 2729. Check if The Number is Fascinating\n",
        "\n",
        "You are given an integer n that consists of exactly 3 digits.\n",
        "\n",
        "We call the number n fascinating if, after the following modification, the resulting number contains all the digits from 1 to 9 exactly once and does not contain any 0's:\n",
        "\n",
        "* Concatenate n with the numbers 2 * n and 3 * n.\n",
        "\n",
        "Return true if n is fascinating, or false otherwise.\n",
        "\n",
        "Concatenating two numbers means joining them together. For example, the concatenation of 121 and 371 is 121371."
      ],
      "metadata": {
        "id": "zOXtdnfj-G1o"
      }
    },
    {
      "cell_type": "code",
      "source": [
        "# 65\n",
        "\n",
        "class Solution(object):\n",
        "    def isFascinating(self, n):\n",
        "        \"\"\"\n",
        "        :type n: int\n",
        "        :rtype: bool\n",
        "        \"\"\"\n",
        "        N = str(n) + str(n * 2) + str(n * 3)\n",
        "        if len(N) == 9:\n",
        "            flag = False\n",
        "            if '1' in N and '2' in N and '3' in N and '4' in N and '5' in N and '6' in N and '7' in N and '8' in N and '9' in N:\n",
        "                flag = True\n",
        "                return flag\n",
        "            else:\n",
        "                return flag\n",
        "        else:\n",
        "            return False\n"
      ],
      "metadata": {
        "id": "u1dirrlx-HF-"
      },
      "execution_count": null,
      "outputs": []
    },
    {
      "cell_type": "markdown",
      "source": [
        "## 504. Base 7\n",
        "\n",
        "Given an integer num, return a string of its base 7 representation."
      ],
      "metadata": {
        "id": "TeW6nHMRx89X"
      }
    },
    {
      "cell_type": "code",
      "source": [
        "# 66\n",
        "\n",
        "class Solution(object):\n",
        "    def convertToBase7(self, num):\n",
        "        \"\"\"\n",
        "        :type num: int\n",
        "        :rtype: str\n",
        "        \"\"\"\n",
        "        if num > 0:\n",
        "            str_num_b7 = ''\n",
        "\n",
        "            while num > 0:\n",
        "                str_num_b7 += str(num % 7)\n",
        "                num //= 7\n",
        "\n",
        "            return str_num_b7[::-1]\n",
        "        elif num == 0:\n",
        "\n",
        "            return '0'\n",
        "        else:\n",
        "            num = abs(num)\n",
        "            str_num_b7 = ''\n",
        "\n",
        "            while num > 0:\n",
        "                str_num_b7 += str(num % 7)\n",
        "                num //= 7\n",
        "\n",
        "            return '-' + str_num_b7[::-1]\n"
      ],
      "metadata": {
        "id": "SxN0T9Zix9TP"
      },
      "execution_count": null,
      "outputs": []
    },
    {
      "cell_type": "markdown",
      "source": [
        "## 1523. Count Odd Numbers in an Interval Range\n",
        "\n",
        "Given two non-negative integers low and high. Return the count of odd numbers between low and high (inclusive)."
      ],
      "metadata": {
        "id": "T5FP6sSRZ6wq"
      }
    },
    {
      "cell_type": "code",
      "source": [
        "# 67\n",
        "\n",
        "class Solution(object):\n",
        "    def countOdds(self, low, high):\n",
        "        \"\"\"\n",
        "        :type low: int\n",
        "        :type high: int\n",
        "        :rtype: int\n",
        "        \"\"\"\n",
        "        if low % 2 != 0 and high % 2 != 0:\n",
        "            return (high - low) // 2 + 1\n",
        "        elif low % 2 == 0 and high % 2 == 0:\n",
        "            return (high - low) // 2\n",
        "        else:\n",
        "            return (high - low) // 2 + 1\n"
      ],
      "metadata": {
        "id": "utTHxLkPZ7KB"
      },
      "execution_count": null,
      "outputs": []
    },
    {
      "cell_type": "markdown",
      "source": [
        "## 2748. Number of Beautiful Pairs\n",
        "\n",
        "You are given a 0-indexed integer array nums. A pair of indices i, j where 0 <= i < j < nums.length is called beautiful if the first digit of nums[i] and the last digit of nums[j] are coprime.\n",
        "\n",
        "Return the total number of beautiful pairs in nums.\n",
        "\n",
        "Two integers x and y are coprime if there is no integer greater than 1 that divides both of them. In other words, x and y are coprime if gcd(x, y) == 1, where gcd(x, y) is the greatest common divisor of x and y."
      ],
      "metadata": {
        "id": "7aPNSEbtJE03"
      }
    },
    {
      "cell_type": "code",
      "source": [
        "# 68\n",
        "\n",
        "class Solution(object):\n",
        "    def countBeautifulPairs(self, nums):\n",
        "        \"\"\"\n",
        "        :type nums: List[int]\n",
        "        :rtype: int\n",
        "        \"\"\"\n",
        "        def gcd(a, b):\n",
        "            while a != 0 and b != 0:\n",
        "                if a > b:\n",
        "                    a %= b\n",
        "                else:\n",
        "                    b %= a\n",
        "\n",
        "            return a + b\n",
        "\n",
        "\n",
        "        n = len(nums)\n",
        "        c = 0\n",
        "        for i in range(n):\n",
        "            for j in range(i + 1, n):\n",
        "                if gcd(int(str(nums[i])[0]), int(str(nums[j])[-1])) == 1:\n",
        "                    c += 1\n",
        "\n",
        "        return c\n"
      ],
      "metadata": {
        "id": "jZzphVX5JFCv"
      },
      "execution_count": null,
      "outputs": []
    },
    {
      "cell_type": "markdown",
      "source": [
        "## 1360. Number of Days Between Two Dates\n",
        "\n",
        "Write a program to count the number of days between two dates.\n",
        "\n",
        "The two dates are given as strings, their format is YYYY-MM-DD as shown in the examples."
      ],
      "metadata": {
        "id": "eneION9lWTJm"
      }
    },
    {
      "cell_type": "code",
      "source": [
        "# 69\n",
        "\n",
        "from datetime import datetime\n",
        "\n",
        "\n",
        "class Solution(object):\n",
        "    def daysBetweenDates(self, date1, date2):\n",
        "        \"\"\"\n",
        "        :type date1: str\n",
        "        :type date2: str\n",
        "        :rtype: int\n",
        "        \"\"\"\n",
        "        Y1, M1, D1 = map(int, date1.split('-'))\n",
        "        Y2, M2, D2 = map(int, date2.split('-'))\n",
        "        A = datetime(Y2, M2, D2)\n",
        "        B = datetime(Y1, M1, D1)\n",
        "        diff_days = A - B\n",
        "\n",
        "        return abs((diff_days).days)\n"
      ],
      "metadata": {
        "id": "ljuGR5nCWTYZ"
      },
      "execution_count": null,
      "outputs": []
    },
    {
      "cell_type": "markdown",
      "source": [
        "## 1154. Day of the Year\n",
        "\n",
        "Given a string date representing a Gregorian calendar date formatted as YYYY-MM-DD, return the day number of the year."
      ],
      "metadata": {
        "id": "2afFvvthA0J2"
      }
    },
    {
      "cell_type": "code",
      "source": [
        "# 70\n",
        "\n",
        "from datetime import datetime\n",
        "\n",
        "\n",
        "class Solution(object):\n",
        "    def dayOfYear(self, date):\n",
        "        \"\"\"\n",
        "        :type date: str\n",
        "        :rtype: int\n",
        "        \"\"\"\n",
        "        start = date[:4] + '-01-01'\n",
        "        Y1, M1, D1 = map(int, date.split('-'))\n",
        "        Y2, M2, D2 = map(int, start.split('-'))\n",
        "        A = datetime(Y2, M2, D2)\n",
        "        B = datetime(Y1, M1, D1)\n",
        "        diff_days = A - B\n",
        "\n",
        "        return abs((diff_days).days) + 1\n"
      ],
      "metadata": {
        "id": "KN13vD8sA0aj"
      },
      "execution_count": null,
      "outputs": []
    },
    {
      "cell_type": "markdown",
      "source": [
        "## 405. Convert a Number to Hexadecimal\n",
        "\n",
        "Given an integer num, return a string representing its hexadecimal representation. For negative integers, two’s complement method is used.\n",
        "\n",
        "All the letters in the answer string should be lowercase characters, and there should not be any leading zeros in the answer except for the zero itself.\n",
        "\n",
        "Note: You are not allowed to use any built-in library method to directly solve this problem."
      ],
      "metadata": {
        "id": "aWXkMC4QDFK3"
      }
    },
    {
      "cell_type": "code",
      "source": [
        "# 71\n",
        "\n",
        "class Solution(object):\n",
        "    def toHex(self, num):\n",
        "        \"\"\"\n",
        "        :type num: int\n",
        "        :rtype: str\n",
        "        \"\"\"\n",
        "        if num == 0:\n",
        "            return '0'\n",
        "        if num < 0:\n",
        "            num = (1 << 32) + num\n",
        "\n",
        "        hex_digits = '0123456789abcdef'\n",
        "        hex_num = ''\n",
        "\n",
        "        while num > 0:\n",
        "            digit = num % 16\n",
        "            hex_num = hex_num + hex_digits[digit]\n",
        "            num //= 16\n",
        "\n",
        "        return hex_num[::-1]\n",
        ""
      ],
      "metadata": {
        "id": "myYnCNXjDFiM"
      },
      "execution_count": 1,
      "outputs": []
    }
  ]
}