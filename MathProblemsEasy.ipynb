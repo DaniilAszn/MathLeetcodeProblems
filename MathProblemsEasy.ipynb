{
  "nbformat": 4,
  "nbformat_minor": 0,
  "metadata": {
    "colab": {
      "provenance": [],
      "authorship_tag": "ABX9TyM2tn5LlQcz6Rp/hoPUsDc1",
      "include_colab_link": true
    },
    "kernelspec": {
      "name": "python3",
      "display_name": "Python 3"
    },
    "language_info": {
      "name": "python"
    }
  },
  "cells": [
    {
      "cell_type": "markdown",
      "metadata": {
        "id": "view-in-github",
        "colab_type": "text"
      },
      "source": [
        "<a href=\"https://colab.research.google.com/github/DaniilAszn/MathLeetcodeProblems/blob/main/MathProblemsEasy.ipynb\" target=\"_parent\"><img src=\"https://colab.research.google.com/assets/colab-badge.svg\" alt=\"Open In Colab\"/></a>"
      ]
    },
    {
      "cell_type": "markdown",
      "source": [
        "## 1512. Number of Good Pairs\n",
        "\n",
        "Given an array of integers nums, return the number of good pairs.\n",
        "\n",
        "A pair (i, j) is called good if nums[i] == nums[j] and i < j."
      ],
      "metadata": {
        "id": "PZR-0KaECbRM"
      }
    },
    {
      "cell_type": "code",
      "source": [
        "# 1\n",
        "\n",
        "class Solution(object):\n",
        "    def numIdenticalPairs(self, nums):\n",
        "        \"\"\"\n",
        "        :type nums: List[int]\n",
        "        :rtype: int\n",
        "        \"\"\"\n",
        "        result = 0\n",
        "\n",
        "        for i in range(len(nums)):\n",
        "            for j in range(i + 1, len(nums)):\n",
        "                if nums[i] == nums[j]:\n",
        "                    result += 1\n",
        "\n",
        "        return result"
      ],
      "metadata": {
        "id": "igA3UmxRgGVI"
      },
      "execution_count": null,
      "outputs": []
    },
    {
      "cell_type": "markdown",
      "source": [
        "## 2469. Convert the Temperature\n",
        "\n",
        "You are given a non-negative floating point number rounded to two decimal places celsius, that denotes the temperature in Celsius.\n",
        "\n",
        "You should convert Celsius into Kelvin and Fahrenheit and return it as an array ans = [kelvin, fahrenheit].\n",
        "\n",
        "Return the array ans. Answers within 10-5 of the actual answer will be accepted.\n",
        "\n",
        "Note that:\n",
        "\n",
        "* Kelvin = Celsius + 273.15\n",
        "* Fahrenheit = Celsius * 1.80 + 32.00"
      ],
      "metadata": {
        "id": "cypYTvTMCEXP"
      }
    },
    {
      "cell_type": "code",
      "source": [
        "# 2\n",
        "\n",
        "class Solution(object):\n",
        "    def convertTemperature(self, celsius):\n",
        "        \"\"\"\n",
        "        :type celsius: float\n",
        "        :rtype: List[float]\n",
        "        \"\"\"\n",
        "        return [celsius + 273.15, celsius * 1.80 + 32.00]"
      ],
      "metadata": {
        "id": "-2NqGuURgOSK"
      },
      "execution_count": null,
      "outputs": []
    },
    {
      "cell_type": "markdown",
      "source": [
        "## 2769. Find the Maximum Achievable Number\n",
        "\n",
        "You are given two integers, num and t.\n",
        "\n",
        "An integer x is called achievable if it can become equal to num after applying the following operation no more than t times:\n",
        "\n",
        "* Increase or decrease x by 1, and simultaneously increase or decrease num by 1.\n",
        "\n",
        "Return the maximum possible achievable number. It can be proven that there exists at least one achievable number."
      ],
      "metadata": {
        "id": "n9XQ4KEeBhw4"
      }
    },
    {
      "cell_type": "code",
      "source": [
        "# 3\n",
        "\n",
        "class Solution(object):\n",
        "    def theMaximumAchievableX(self, num, t):\n",
        "        \"\"\"\n",
        "        :type num: int\n",
        "        :type t: int\n",
        "        :rtype: int\n",
        "        \"\"\"\n",
        "\t      return num + 2 * t"
      ],
      "metadata": {
        "id": "yb_VsxcEgS2h"
      },
      "execution_count": null,
      "outputs": []
    },
    {
      "cell_type": "markdown",
      "source": [
        "## 2894. Divisible and Non-divisible Sums Difference\n",
        "\n",
        "You are given positive integers n and m.\n",
        "\n",
        "Define two integers, num1 and num2, as follows:\n",
        "\n",
        "*   num1: The sum of all integers in the range [1, n] that are not divisible by m.\n",
        "*   num2: The sum of all integers in the range [1, n] that are divisible by m.\n",
        "\n",
        "Return the integer num1 - num2."
      ],
      "metadata": {
        "id": "OBRcshN5AMeK"
      }
    },
    {
      "cell_type": "code",
      "source": [
        "# 4\n",
        "\n",
        "class Solution(object):\n",
        "    def differenceOfSums(self, n, m):\n",
        "        \"\"\"\n",
        "        :type n: int\n",
        "        :type m: int\n",
        "        :rtype: int\n",
        "        \"\"\"\n",
        "        num1 = sum([x * (x % m != 0) for x in range(1, n + 1)])\n",
        "        num2 = sum([x * (x % m == 0) for x in range(1, n + 1)])\n",
        "\n",
        "        return num1 - num2"
      ],
      "metadata": {
        "id": "10vsawfBAMNC"
      },
      "execution_count": null,
      "outputs": []
    },
    {
      "cell_type": "markdown",
      "source": [
        "## 2413. Smallest Even Multiple\n",
        "\n",
        "Given a positive integer n, return the smallest positive integer that is a multiple of both 2 and n."
      ],
      "metadata": {
        "id": "lTuXG7hBL7Xy"
      }
    },
    {
      "cell_type": "code",
      "source": [
        "# 5\n",
        "\n",
        "class Solution(object):\n",
        "    def smallestEvenMultiple(self, n, m = 2):\n",
        "        \"\"\"\n",
        "        :type n: int\n",
        "        :rtype: int\n",
        "        \"\"\"\n",
        "        result = 0\n",
        "\n",
        "        for i in range(max(n , m), n * m + 1):\n",
        "            if (i % n == 0) and (i % m == 0):\n",
        "                result = i\n",
        "                break\n",
        "\n",
        "        return result"
      ],
      "metadata": {
        "id": "Yd21E5UoL7uo"
      },
      "execution_count": null,
      "outputs": []
    },
    {
      "cell_type": "markdown",
      "source": [
        "## 2235. Add Two Integers\n",
        "\n",
        "Given two integers num1 and num2, return the sum of the two integers."
      ],
      "metadata": {
        "id": "E_qfrDBuLi_E"
      }
    },
    {
      "cell_type": "code",
      "source": [
        "# 6\n",
        "\n",
        "class Solution(object):\n",
        "    def sum(self, num1, num2):\n",
        "        \"\"\"\n",
        "        :type num1: int\n",
        "        :type num2: int\n",
        "        :rtype: int\n",
        "        \"\"\"\n",
        "        return num1 + num2"
      ],
      "metadata": {
        "id": "qMVRJySyLjXQ"
      },
      "execution_count": null,
      "outputs": []
    },
    {
      "cell_type": "markdown",
      "source": [
        "## 1281. Subtract the Product and Sum of Digits of an Integer\n",
        "\n",
        "Given an integer number n, return the difference between the product of its digits and the sum of its digits."
      ],
      "metadata": {
        "id": "O0FyTYkUMvQO"
      }
    },
    {
      "cell_type": "code",
      "source": [
        "# 7\n",
        "\n",
        "class Solution(object):\n",
        "    def subtractProductAndSum(self, n):\n",
        "        \"\"\"\n",
        "        :type n: int\n",
        "        :rtype: int\n",
        "        \"\"\"\n",
        "        product = 1\n",
        "        sum = 0\n",
        "\n",
        "        while n > 0:\n",
        "            product *= n % 10\n",
        "            sum += n % 10\n",
        "            n //= 10\n",
        "\n",
        "        return product - sum"
      ],
      "metadata": {
        "id": "AwSwdkEzMvtH"
      },
      "execution_count": 2,
      "outputs": []
    }
  ]
}