{
  "nbformat": 4,
  "nbformat_minor": 0,
  "metadata": {
    "colab": {
      "provenance": [],
      "authorship_tag": "ABX9TyM7nOPmKVCTs2Ij1vyrJFId",
      "include_colab_link": true
    },
    "kernelspec": {
      "name": "python3",
      "display_name": "Python 3"
    },
    "language_info": {
      "name": "python"
    }
  },
  "cells": [
    {
      "cell_type": "markdown",
      "metadata": {
        "id": "view-in-github",
        "colab_type": "text"
      },
      "source": [
        "<a href=\"https://colab.research.google.com/github/DaniilAszn/MathLeetcodeProblems/blob/main/MathProblemsEasy.ipynb\" target=\"_parent\"><img src=\"https://colab.research.google.com/assets/colab-badge.svg\" alt=\"Open In Colab\"/></a>"
      ]
    },
    {
      "cell_type": "markdown",
      "source": [
        "Link: https://leetcode.com/danya_adamov/"
      ],
      "metadata": {
        "id": "0yexVjDuROmo"
      }
    },
    {
      "cell_type": "markdown",
      "source": [
        "## 1512. Number of Good Pairs\n",
        "\n",
        "Given an array of integers nums, return the number of good pairs.\n",
        "\n",
        "A pair (i, j) is called good if nums[i] == nums[j] and i < j."
      ],
      "metadata": {
        "id": "PZR-0KaECbRM"
      }
    },
    {
      "cell_type": "code",
      "source": [
        "# 1\n",
        "\n",
        "class Solution(object):\n",
        "    def numIdenticalPairs(self, nums):\n",
        "        \"\"\"\n",
        "        :type nums: List[int]\n",
        "        :rtype: int\n",
        "        \"\"\"\n",
        "        result = 0\n",
        "\n",
        "        for i in range(len(nums)):\n",
        "            for j in range(i + 1, len(nums)):\n",
        "                if nums[i] == nums[j]:\n",
        "                    result += 1\n",
        "\n",
        "        return result"
      ],
      "metadata": {
        "id": "igA3UmxRgGVI"
      },
      "execution_count": null,
      "outputs": []
    },
    {
      "cell_type": "markdown",
      "source": [
        "## 2469. Convert the Temperature\n",
        "\n",
        "You are given a non-negative floating point number rounded to two decimal places celsius, that denotes the temperature in Celsius.\n",
        "\n",
        "You should convert Celsius into Kelvin and Fahrenheit and return it as an array ans = [kelvin, fahrenheit].\n",
        "\n",
        "Return the array ans. Answers within 10-5 of the actual answer will be accepted.\n",
        "\n",
        "Note that:\n",
        "\n",
        "* Kelvin = Celsius + 273.15\n",
        "* Fahrenheit = Celsius * 1.80 + 32.00"
      ],
      "metadata": {
        "id": "cypYTvTMCEXP"
      }
    },
    {
      "cell_type": "code",
      "source": [
        "# 2\n",
        "\n",
        "class Solution(object):\n",
        "    def convertTemperature(self, celsius):\n",
        "        \"\"\"\n",
        "        :type celsius: float\n",
        "        :rtype: List[float]\n",
        "        \"\"\"\n",
        "        return [celsius + 273.15, celsius * 1.80 + 32.00]"
      ],
      "metadata": {
        "id": "-2NqGuURgOSK"
      },
      "execution_count": null,
      "outputs": []
    },
    {
      "cell_type": "markdown",
      "source": [
        "## 2769. Find the Maximum Achievable Number\n",
        "\n",
        "You are given two integers, num and t.\n",
        "\n",
        "An integer x is called achievable if it can become equal to num after applying the following operation no more than t times:\n",
        "\n",
        "* Increase or decrease x by 1, and simultaneously increase or decrease num by 1.\n",
        "\n",
        "Return the maximum possible achievable number. It can be proven that there exists at least one achievable number."
      ],
      "metadata": {
        "id": "n9XQ4KEeBhw4"
      }
    },
    {
      "cell_type": "code",
      "source": [
        "# 3\n",
        "\n",
        "class Solution(object):\n",
        "    def theMaximumAchievableX(self, num, t):\n",
        "        \"\"\"\n",
        "        :type num: int\n",
        "        :type t: int\n",
        "        :rtype: int\n",
        "        \"\"\"\n",
        "\t      return num + 2 * t"
      ],
      "metadata": {
        "id": "yb_VsxcEgS2h"
      },
      "execution_count": null,
      "outputs": []
    },
    {
      "cell_type": "markdown",
      "source": [
        "## 2894. Divisible and Non-divisible Sums Difference\n",
        "\n",
        "You are given positive integers n and m.\n",
        "\n",
        "Define two integers, num1 and num2, as follows:\n",
        "\n",
        "*   num1: The sum of all integers in the range [1, n] that are not divisible by m.\n",
        "*   num2: The sum of all integers in the range [1, n] that are divisible by m.\n",
        "\n",
        "Return the integer num1 - num2."
      ],
      "metadata": {
        "id": "OBRcshN5AMeK"
      }
    },
    {
      "cell_type": "code",
      "source": [
        "# 4\n",
        "\n",
        "class Solution(object):\n",
        "    def differenceOfSums(self, n, m):\n",
        "        \"\"\"\n",
        "        :type n: int\n",
        "        :type m: int\n",
        "        :rtype: int\n",
        "        \"\"\"\n",
        "        num1 = sum([x * (x % m != 0) for x in range(1, n + 1)])\n",
        "        num2 = sum([x * (x % m == 0) for x in range(1, n + 1)])\n",
        "\n",
        "        return num1 - num2"
      ],
      "metadata": {
        "id": "10vsawfBAMNC"
      },
      "execution_count": null,
      "outputs": []
    },
    {
      "cell_type": "markdown",
      "source": [
        "## 2413. Smallest Even Multiple\n",
        "\n",
        "Given a positive integer n, return the smallest positive integer that is a multiple of both 2 and n."
      ],
      "metadata": {
        "id": "lTuXG7hBL7Xy"
      }
    },
    {
      "cell_type": "code",
      "source": [
        "# 5\n",
        "\n",
        "class Solution(object):\n",
        "    def smallestEvenMultiple(self, n, m = 2):\n",
        "        \"\"\"\n",
        "        :type n: int\n",
        "        :rtype: int\n",
        "        \"\"\"\n",
        "        result = 0\n",
        "\n",
        "        for i in range(max(n , m), n * m + 1):\n",
        "            if (i % n == 0) and (i % m == 0):\n",
        "                result = i\n",
        "                break\n",
        "\n",
        "        return result"
      ],
      "metadata": {
        "id": "Yd21E5UoL7uo"
      },
      "execution_count": null,
      "outputs": []
    },
    {
      "cell_type": "markdown",
      "source": [
        "## 2235. Add Two Integers\n",
        "\n",
        "Given two integers num1 and num2, return the sum of the two integers."
      ],
      "metadata": {
        "id": "E_qfrDBuLi_E"
      }
    },
    {
      "cell_type": "code",
      "source": [
        "# 6\n",
        "\n",
        "class Solution(object):\n",
        "    def sum(self, num1, num2):\n",
        "        \"\"\"\n",
        "        :type num1: int\n",
        "        :type num2: int\n",
        "        :rtype: int\n",
        "        \"\"\"\n",
        "        return num1 + num2"
      ],
      "metadata": {
        "id": "qMVRJySyLjXQ"
      },
      "execution_count": null,
      "outputs": []
    },
    {
      "cell_type": "markdown",
      "source": [
        "## 1281. Subtract the Product and Sum of Digits of an Integer\n",
        "\n",
        "Given an integer number n, return the difference between the product of its digits and the sum of its digits."
      ],
      "metadata": {
        "id": "O0FyTYkUMvQO"
      }
    },
    {
      "cell_type": "code",
      "source": [
        "# 7\n",
        "\n",
        "class Solution(object):\n",
        "    def subtractProductAndSum(self, n):\n",
        "        \"\"\"\n",
        "        :type n: int\n",
        "        :rtype: int\n",
        "        \"\"\"\n",
        "        product = 1\n",
        "        sum = 0\n",
        "\n",
        "        while n > 0:\n",
        "            product *= n % 10\n",
        "            sum += n % 10\n",
        "            n //= 10\n",
        "\n",
        "        return product - sum"
      ],
      "metadata": {
        "id": "AwSwdkEzMvtH"
      },
      "execution_count": null,
      "outputs": []
    },
    {
      "cell_type": "markdown",
      "source": [
        "## 2160. Minimum Sum of Four Digit Number After Splitting Digits\n",
        "\n",
        "You are given a positive integer num consisting of exactly four digits. Split num into two new integers new1 and new2 by using the digits found in num. Leading zeros are allowed in new1 and new2, and all the digits found in num must be used.\n",
        "\n",
        "* For example, given num = 2932, you have the following digits: two 2's, one 9 and one 3. Some of the possible pairs [new1, new2] are [22, 93], [23, 92], [223, 9] and [2, 329].\n",
        "\n",
        "Return the minimum possible sum of new1 and new2."
      ],
      "metadata": {
        "id": "2GWeOd616xPX"
      }
    },
    {
      "cell_type": "code",
      "source": [
        "# 8\n",
        "\n",
        "class Solution(object):\n",
        "    def minimumSum(self, num):\n",
        "        \"\"\"\n",
        "        :type num: int\n",
        "        :rtype: int\n",
        "        \"\"\"\n",
        "        result = []\n",
        "\n",
        "        while num > 0:\n",
        "            result.append(num % 10)\n",
        "            num //= 10\n",
        "\n",
        "        result.sort()\n",
        "\n",
        "        num1 = result[0] * 10 + result[2]\n",
        "        num2 = result[1] * 10 + result[3]\n",
        "\n",
        "        return num1 + num2"
      ],
      "metadata": {
        "id": "8UGKo7Ni67Dz"
      },
      "execution_count": null,
      "outputs": []
    },
    {
      "cell_type": "markdown",
      "source": [
        "## 1688. Count of Matches in Tournament\n",
        "\n",
        "You are given an integer n, the number of teams in a tournament that has strange rules:\n",
        "\n",
        "* If the current number of teams is even, each team gets paired with another team. A total of n / 2 matches are played, and n / 2 teams advance to the next round.\n",
        "* If the current number of teams is odd, one team randomly advances in the tournament, and the rest gets paired. A total of (n - 1) / 2 matches are played, and (n - 1) / 2 + 1 teams advance to the next round.\n",
        "\n",
        "Return the number of matches played in the tournament until a winner is decided."
      ],
      "metadata": {
        "id": "Z1kLwXdN6W9V"
      }
    },
    {
      "cell_type": "code",
      "source": [
        "# 9\n",
        "\n",
        "class Solution(object):\n",
        "    def numberOfMatches(self, n):\n",
        "        \"\"\"\n",
        "        :type n: int\n",
        "        :rtype: int\n",
        "        \"\"\"\n",
        "        s = 0\n",
        "        while n > 1:\n",
        "\n",
        "            if n % 2 == 0:\n",
        "                m = n / 2\n",
        "                t = n / 2\n",
        "                s += m\n",
        "            else:\n",
        "                m = (n - 1) / 2\n",
        "                t = (n - 1) / 2 + 1\n",
        "                s += m\n",
        "\n",
        "            n = t\n",
        "\n",
        "        return s"
      ],
      "metadata": {
        "id": "5GxUd1Zi6XQH"
      },
      "execution_count": null,
      "outputs": []
    },
    {
      "cell_type": "markdown",
      "source": [
        "## 1486. XOR Operation in an Array\n",
        "\n",
        "You are given an integer n and an integer start.\n",
        "\n",
        "Define an array nums where nums[i] = start + 2 * i (0-indexed) and n == nums.length.\n",
        "\n",
        "Return the bitwise XOR of all elements of nums."
      ],
      "metadata": {
        "id": "JMBXrfadLNVs"
      }
    },
    {
      "cell_type": "code",
      "source": [
        "# 10\n",
        "\n",
        "class Solution(object):\n",
        "    def xorOperation(self, n, start):\n",
        "        \"\"\"\n",
        "        :type n: int\n",
        "        :type start: int\n",
        "        :rtype: int\n",
        "        \"\"\"\n",
        "        result = 0\n",
        "        nums = []\n",
        "        for i in range(n):\n",
        "            nums.append(start + 2 * i)\n",
        "            result = result ^ nums[i]\n",
        "\n",
        "        return result"
      ],
      "metadata": {
        "id": "wQDADZUiLN5M"
      },
      "execution_count": null,
      "outputs": []
    },
    {
      "cell_type": "markdown",
      "source": [
        "## 1342. Number of Steps to Reduce a Number to Zero\n",
        "\n",
        "Given an integer num, return the number of steps to reduce it to zero.\n",
        "\n",
        "In one step, if the current number is even, you have to divide it by 2, otherwise, you have to subtract 1 from it."
      ],
      "metadata": {
        "id": "_yEUhwykQ6WL"
      }
    },
    {
      "cell_type": "code",
      "source": [
        "# 11\n",
        "\n",
        "class Solution(object):\n",
        "    def numberOfSteps(self, num):\n",
        "        \"\"\"\n",
        "        :type num: int\n",
        "        :rtype: int\n",
        "        \"\"\"\n",
        "        count = 0\n",
        "        while (num != 0):\n",
        "            count += 1\n",
        "            if num % 2 == 0:\n",
        "                num /= 2\n",
        "            else:\n",
        "                num -= 1\n",
        "\n",
        "        return count"
      ],
      "metadata": {
        "id": "WOjtGi46Q6sz"
      },
      "execution_count": null,
      "outputs": []
    },
    {
      "cell_type": "markdown",
      "source": [
        "## 2652. Sum Multiples\n",
        "\n",
        "Given a positive integer n, find the sum of all integers in the range [1, n] inclusive that are divisible by 3, 5, or 7.\n",
        "\n",
        "Return an integer denoting the sum of all numbers in the given range satisfying the constraint."
      ],
      "metadata": {
        "id": "U5O2YnN1AlVi"
      }
    },
    {
      "cell_type": "code",
      "source": [
        "# 12\n",
        "\n",
        "class Solution(object):\n",
        "    def sumOfMultiples(self, n):\n",
        "        \"\"\"\n",
        "        :type n: int\n",
        "        :rtype: int\n",
        "        \"\"\"\n",
        "        s = 0\n",
        "        for i in range(1, n + 1):\n",
        "            if (i % 3 == 0) or (i % 5 == 0) or (i % 7 == 0):\n",
        "                s += i\n",
        "        return s"
      ],
      "metadata": {
        "id": "BkfOXZHwAloM"
      },
      "execution_count": null,
      "outputs": []
    },
    {
      "cell_type": "markdown",
      "source": [
        "## 2520. Count the Digits That Divide a Number\n",
        "\n",
        "Given an integer num, return the number of digits in num that divide num.\n",
        "\n",
        "An integer val divides nums if nums % val == 0."
      ],
      "metadata": {
        "id": "3afQAAIxFVLj"
      }
    },
    {
      "cell_type": "code",
      "source": [
        "# 13\n",
        "\n",
        "class Solution(object):\n",
        "    def countDigits(self, num):\n",
        "        \"\"\"\n",
        "        :type num: int\n",
        "        :rtype: int\n",
        "        \"\"\"\n",
        "        str_num = str(num)\n",
        "        count = 0\n",
        "\n",
        "        for i in range(len(str_num)):\n",
        "            if num % int(str_num[i]) == 0:\n",
        "                count += 1\n",
        "\n",
        "        return count"
      ],
      "metadata": {
        "id": "4Lh6Lj5fFVe4"
      },
      "execution_count": null,
      "outputs": []
    },
    {
      "cell_type": "markdown",
      "source": [
        "## 2535. Difference Between Element Sum and Digit Sum of an Array\n",
        "\n",
        "You are given a positive integer array nums.\n",
        "\n",
        "* The element sum is the sum of all the elements in nums.\n",
        "* The digit sum is the sum of all the digits (not necessarily distinct) that appear in nums.\n",
        "\n",
        "Return the absolute difference between the element sum and digit sum of nums.\n",
        "\n",
        "Note that the absolute difference between two integers x and y is defined as |x - y|."
      ],
      "metadata": {
        "id": "cn8p-NLJ5q_E"
      }
    },
    {
      "cell_type": "code",
      "source": [
        "# 14\n",
        "\n",
        "class Solution(object):\n",
        "    def differenceOfSum(self, nums):\n",
        "        \"\"\"\n",
        "        :type nums: List[int]\n",
        "        :rtype: int\n",
        "        \"\"\"\n",
        "        sum_of_elements = sum(nums)\n",
        "        sum_of_digits = 0\n",
        "\n",
        "        for i in range(len(nums)):\n",
        "            sum_of_element = 0\n",
        "            while nums[i] > 0:\n",
        "                sum_of_element += nums[i] % 10\n",
        "                nums[i] //= 10\n",
        "            sum_of_digits += sum_of_element\n",
        "\n",
        "        return sum_of_elements - sum_of_digits"
      ],
      "metadata": {
        "id": "vujZ9VSD5rTT"
      },
      "execution_count": null,
      "outputs": []
    },
    {
      "cell_type": "markdown",
      "source": [
        "## 1588. Sum of All Odd Length Subarrays\n",
        "\n",
        "Given an array of positive integers arr, return the sum of all possible odd-length subarrays of arr.\n",
        "\n",
        "A subarray is a contiguous subsequence of the array."
      ],
      "metadata": {
        "id": "l92gKdux1diM"
      }
    },
    {
      "cell_type": "code",
      "source": [
        "# 15\n",
        "\n",
        "class Solution(object):\n",
        "    def sumOddLengthSubarrays(self, arr):\n",
        "        \"\"\"\n",
        "        :type arr: List[int]\n",
        "        :rtype: int\n",
        "        \"\"\"\n",
        "        sum_of_odd_subarr = 0\n",
        "        sum_of_odd_subarr += sum(arr)\n",
        "        len_arr = len(arr)\n",
        "\n",
        "        len_of_cur_subarr = 3\n",
        "        while len_of_cur_subarr <= len_arr:\n",
        "            for t in range(len_arr):\n",
        "                cur_sum = 0\n",
        "                i = t\n",
        "                j = len_of_cur_subarr + t\n",
        "                if j <= len_arr:\n",
        "                    cur_sum += sum(arr[i:j])\n",
        "                sum_of_odd_subarr += cur_sum\n",
        "            len_of_cur_subarr += 2\n",
        "\n",
        "        return sum_of_odd_subarr"
      ],
      "metadata": {
        "id": "_N9a5V7y1d3L"
      },
      "execution_count": null,
      "outputs": []
    },
    {
      "cell_type": "markdown",
      "source": [
        "## 1323. Maximum 69 Number\n",
        "\n",
        "You are given a positive integer num consisting only of digits 6 and 9.\n",
        "\n",
        "Return the maximum number you can get by changing at most one digit (6 becomes 9, and 9 becomes 6)."
      ],
      "metadata": {
        "id": "bhmEE6sCJuh-"
      }
    },
    {
      "cell_type": "code",
      "source": [
        "# 16\n",
        "\n",
        "class Solution(object):\n",
        "    def maximum69Number (self, num):\n",
        "        \"\"\"\n",
        "        :type num: int\n",
        "        :rtype: int\n",
        "        \"\"\"\n",
        "        str_num = str(num)\n",
        "        len_num = len(str_num)\n",
        "        max_69num = int('9' * len_num)\n",
        "        min_69num = int('6' * len_num)\n",
        "        num69 = [min_69num]\n",
        "        if num == max_69num:\n",
        "            return num\n",
        "        else:\n",
        "            for i in range(len_num):\n",
        "                stop = len_num - i\n",
        "                str3 = str(3 * 10 ** len_num)\n",
        "                if str_num[i] == '9':\n",
        "                    num69.append(num - int(str3[:stop]))\n",
        "                elif str_num[i] == '6':\n",
        "                    num69.append(num + int(str3[:stop]))\n",
        "\n",
        "            return max(num69)"
      ],
      "metadata": {
        "id": "R1DkVvRoJu1_"
      },
      "execution_count": null,
      "outputs": []
    },
    {
      "cell_type": "markdown",
      "source": [
        "## 1863. Sum of All Subset XOR Totals\n",
        "\n",
        "The XOR total of an array is defined as the bitwise XOR of all its elements, or 0 if the array is empty.\n",
        "\n",
        "* For example, the XOR total of the array [2,5,6] is 2 XOR 5 XOR 6 = 1.\n",
        "\n",
        "Given an array nums, return the sum of all XOR totals for every subset of nums.\n",
        "\n",
        "Note: Subsets with the same elements should be counted multiple times.\n",
        "\n",
        "An array a is a subset of an array b if a can be obtained from b by deleting some (possibly zero) elements of b."
      ],
      "metadata": {
        "id": "rS91ooA8d1T3"
      }
    },
    {
      "cell_type": "code",
      "source": [
        "# 17\n",
        "\n",
        "from itertools import combinations\n",
        "\n",
        "\n",
        "class Solution(object):\n",
        "    def subsetXORSum(self, nums):\n",
        "        \"\"\"\n",
        "        :type nums: List[int]\n",
        "        :rtype: int\n",
        "        \"\"\"\n",
        "        len_nums = len(nums)\n",
        "        sum_of_XOR_nums = 0\n",
        "        sum_of_XOR_nums += sum(nums)\n",
        "\n",
        "        for k in range(2, len_nums + 1):\n",
        "            cur_combination = combinations(nums, k)\n",
        "            for comb in cur_combination:\n",
        "                temp_comb = list(comb)\n",
        "                cur_XOR_sum = 0\n",
        "                for i in range(len(temp_comb)):\n",
        "                    cur_XOR_sum = cur_XOR_sum ^ temp_comb[i]\n",
        "                sum_of_XOR_nums += cur_XOR_sum\n",
        "\n",
        "        return sum_of_XOR_nums"
      ],
      "metadata": {
        "id": "1fLQl0d1d1sT"
      },
      "execution_count": null,
      "outputs": []
    },
    {
      "cell_type": "markdown",
      "source": [
        "## 2485. Find the Pivot Integer\n",
        "\n",
        "Given a positive integer n, find the pivot integer x such that:\n",
        "\n",
        "* The sum of all elements between 1 and x inclusively equals the sum of all elements between x and n inclusively.\n",
        "\n",
        "Return the pivot integer x. If no such integer exists, return -1. It is guaranteed that there will be at most one pivot index for the given input."
      ],
      "metadata": {
        "id": "HcPgIwR7Wkgj"
      }
    },
    {
      "cell_type": "code",
      "source": [
        "# 18\n",
        "\n",
        "class Solution(object):\n",
        "    def pivotInteger(self, n):\n",
        "        \"\"\"\n",
        "        :type n: int\n",
        "        :rtype: int\n",
        "        \"\"\"\n",
        "        arr_n = list(range(1, n + 1))\n",
        "        flag = False\n",
        "        for x in arr_n:\n",
        "            if sum(arr_n[:x:]) != sum(arr_n[x - 1::]):\n",
        "                continue\n",
        "            else:\n",
        "                flag, result = True, x\n",
        "                break\n",
        "\n",
        "        if flag:\n",
        "            return result\n",
        "        else:\n",
        "            return -1"
      ],
      "metadata": {
        "id": "5CluuUFvWkyf"
      },
      "execution_count": null,
      "outputs": []
    },
    {
      "cell_type": "markdown",
      "source": [
        "## 2119. A Number After a Double Reversal\n",
        "\n",
        "Reversing an integer means to reverse all its digits.\n",
        "\n",
        "* For example, reversing 2021 gives 1202. Reversing 12300 gives 321 as the leading zeros are not retained.\n",
        "\n",
        "Given an integer num, reverse num to get reversed1, then reverse reversed1 to get reversed2. Return true if reversed2 equals num. Otherwise return false."
      ],
      "metadata": {
        "id": "TlXsRs_k14Hu"
      }
    },
    {
      "cell_type": "code",
      "source": [
        "# 19\n",
        "\n",
        "class Solution(object):\n",
        "    def isSameAfterReversals(self, num):\n",
        "        \"\"\"\n",
        "        :type num: int\n",
        "        :rtype: bool\n",
        "        \"\"\"\n",
        "        return num == int(str(int((str(num))[::-1]))[::-1])"
      ],
      "metadata": {
        "id": "1eWbm-ih14Wt"
      },
      "execution_count": null,
      "outputs": []
    },
    {
      "cell_type": "markdown",
      "source": [
        "## 2427. Number of Common Factors\n",
        "\n",
        "Given two positive integers a and b, return the number of common factors of a and b.\n",
        "\n",
        "An integer x is a common factor of a and b if x divides both a and b."
      ],
      "metadata": {
        "id": "LPos5tXauJAJ"
      }
    },
    {
      "cell_type": "code",
      "source": [
        "# 20\n",
        "\n",
        "class Solution(object):\n",
        "    def commonFactors(self, a, b):\n",
        "        \"\"\"\n",
        "        :type a: int\n",
        "        :type b: int\n",
        "        :rtype: int\n",
        "        \"\"\"\n",
        "        c = 0\n",
        "        if a % b == 0:\n",
        "            for i in range(1, b + 1):\n",
        "                if a % i == 0 and b % i == 0:\n",
        "                    c += 1\n",
        "        elif b % a == 0:\n",
        "            for i in range(1, a + 1):\n",
        "                if a % i == 0 and b % i == 0:\n",
        "                    c += 1\n",
        "        else:\n",
        "            for i in range(1, min(a, b)):\n",
        "                if a % i == 0 and b % i == 0:\n",
        "                    c += 1\n",
        "\n",
        "        return c"
      ],
      "metadata": {
        "id": "RZqkAzIRuJSH"
      },
      "execution_count": null,
      "outputs": []
    },
    {
      "cell_type": "markdown",
      "source": [
        "## 2651. Calculate Delayed Arrival Time\n",
        "\n",
        "You are given a positive integer arrivalTime denoting the arrival time of a train in hours, and another positive integer delayedTime denoting the amount of delay in hours.\n",
        "\n",
        "Return the time when the train will arrive at the station.\n",
        "\n",
        "Note that the time in this problem is in 24-hours format.\n",
        "\n"
      ],
      "metadata": {
        "id": "EVu6EaJ_S4Hq"
      }
    },
    {
      "cell_type": "code",
      "source": [
        "#21\n",
        "\n",
        "class Solution(object):\n",
        "    def findDelayedArrivalTime(self, arrivalTime, delayedTime):\n",
        "        \"\"\"\n",
        "        :type arrivalTime: int\n",
        "        :type delayedTime: int\n",
        "        :rtype: int\n",
        "        \"\"\"\n",
        "        return (arrivalTime + delayedTime) % 24"
      ],
      "metadata": {
        "id": "EZsvH1v-S4Vj"
      },
      "execution_count": null,
      "outputs": []
    },
    {
      "cell_type": "markdown",
      "source": [
        "## 1252. Cells with Odd Values in a Matrix\n",
        "\n",
        "There is an m x n matrix that is initialized to all 0's. There is also a 2D array indices where each indices[i] = [ri, ci] represents a 0-indexed location to perform some increment operations on the matrix.\n",
        "\n",
        "For each location indices[i], do both of the following:\n",
        "1.   Increment all the cells on row ri.\n",
        "2.   Increment all the cells on column ci.\n",
        "\n",
        "Given m, n, and indices, return the number of odd-valued cells in the matrix after applying the increment to all locations in indices."
      ],
      "metadata": {
        "id": "_YBI4RHqKPt_"
      }
    },
    {
      "cell_type": "code",
      "source": [
        "# 22\n",
        "\n",
        "class Solution(object):\n",
        "    def oddCells(self, m, n, indices):\n",
        "        \"\"\"\n",
        "        :type m: int\n",
        "        :type n: int\n",
        "        :type indices: List[List[int]]\n",
        "        :rtype: int\n",
        "        \"\"\"\n",
        "        matrix_mn = []\n",
        "        for i in range(m):\n",
        "            cur_row = [0] * n\n",
        "            matrix_mn.append(cur_row)\n",
        "\n",
        "        for indice in indices:\n",
        "            for j in range(n):\n",
        "                matrix_mn[indice[0]][j] += 1\n",
        "            for i in range(m):\n",
        "                matrix_mn[i][indice[1]] += 1\n",
        "\n",
        "        count = 0\n",
        "        for i in range(m):\n",
        "            for j in range(n):\n",
        "                if matrix_mn[i][j] % 2 != 0:\n",
        "                    count += 1\n",
        "\n",
        "        return count"
      ],
      "metadata": {
        "id": "v14_NW6xKP8H"
      },
      "execution_count": null,
      "outputs": []
    },
    {
      "cell_type": "markdown",
      "source": [
        "## 728. Self Dividing Numbers\n",
        "\n",
        "A self-dividing number is a number that is divisible by every digit it contains.\n",
        "\n",
        "* For example, 128 is a self-dividing number because 128 % 1 == 0, 128 % 2 == 0, and 128 % 8 == 0.\n",
        "\n",
        "A self-dividing number is not allowed to contain the digit zero.\n",
        "\n",
        "Given two integers left and right, return a list of all the self-dividing numbers in the range [left, right]."
      ],
      "metadata": {
        "id": "qfC7ohqtQ7b5"
      }
    },
    {
      "cell_type": "code",
      "source": [
        "# 23\n",
        "\n",
        "class Solution(object):\n",
        "    def selfDividingNumbers(self, left, right):\n",
        "        \"\"\"\n",
        "        :type left: int\n",
        "        :type right: int\n",
        "        :rtype: List[int]\n",
        "        \"\"\"\n",
        "        self_dividing_arr = []\n",
        "        for element in range(left, right + 1):\n",
        "            x = element\n",
        "            x_digits = []\n",
        "            while x > 0:\n",
        "                x_digits.append(x % 10)\n",
        "                x //= 10\n",
        "            set_x_digits = set(x_digits)\n",
        "            if not(0 in set_x_digits):\n",
        "                flag = True\n",
        "                for d in x_digits:\n",
        "                    if element % d != 0:\n",
        "                        flag = False\n",
        "                        break\n",
        "                if flag:\n",
        "                    self_dividing_arr.append(element)\n",
        "\n",
        "        return self_dividing_arr"
      ],
      "metadata": {
        "id": "gByrsTcnQ7pH"
      },
      "execution_count": null,
      "outputs": []
    },
    {
      "cell_type": "markdown",
      "source": [
        "## 1716. Calculate Money in Leetcode Bank\n",
        "\n",
        "Hercy wants to save money for his first car. He puts money in the Leetcode bank every day.\n",
        "\n",
        "He starts by putting in 1 dollar on Monday, the first day. Every day from Tuesday to Sunday, he will put in 1 dollar more than the day before. On every subsequent Monday, he will put in 1 dollar more than the previous Monday.\n",
        "Given n, return the total amount of money he will have in the Leetcode bank at the end of the nth day."
      ],
      "metadata": {
        "id": "OjadkBrGSd2p"
      }
    },
    {
      "cell_type": "code",
      "source": [
        "# 24\n",
        "\n",
        "class Solution(object):\n",
        "    def totalMoney(self, n):\n",
        "        \"\"\"\n",
        "        :type n: int\n",
        "        :rtype: int\n",
        "        \"\"\"\n",
        "        week = [1, 2, 3, 4, 5, 6, 7]\n",
        "        last_days = n % 7\n",
        "        count_week = 0\n",
        "        s = 0\n",
        "        for _ in range(n // 7):\n",
        "            s += sum([element + count_week for element in week])\n",
        "            count_week += 1\n",
        "\n",
        "        s += sum([element + count_week for element in week[:last_days]])\n",
        "\n",
        "        return s"
      ],
      "metadata": {
        "id": "dgSzG-0-SeFR"
      },
      "execution_count": null,
      "outputs": []
    },
    {
      "cell_type": "markdown",
      "source": [
        "## 1812. Determine Color of a Chessboard Square\n",
        "\n",
        "You are given coordinates, a string that represents the coordinates of a square of the chessboard. Below is a chessboard for your reference.\n",
        "\n",
        "Return true if the square is white, and false if the square is black.\n",
        "\n",
        "The coordinate will always represent a valid chessboard square. The coordinate will always have the letter first, and the number second."
      ],
      "metadata": {
        "id": "8e0sqh5Nd1AM"
      }
    },
    {
      "cell_type": "code",
      "source": [
        "# 25\n",
        "\n",
        "class Solution(object):\n",
        "    def squareIsWhite(self, coordinates):\n",
        "        \"\"\"\n",
        "        :type coordinates: str\n",
        "        :rtype: bool\n",
        "        \"\"\"\n",
        "        sym_to_num = {\n",
        "            'a': 0,\n",
        "            'b': 1,\n",
        "            'c': 2,\n",
        "            'd': 3,\n",
        "            'e': 4,\n",
        "            'f': 5,\n",
        "            'g': 6,\n",
        "            'h': 7\n",
        "        }\n",
        "\n",
        "        num_to_color = {\n",
        "            1: 'black',\n",
        "            0: 'white'\n",
        "        }\n",
        "\n",
        "        chess_board = []\n",
        "        for i in range(8):\n",
        "            chess_row = []\n",
        "            for j in range(8):\n",
        "                if i % 2 != 0:\n",
        "                    chess_row.append(j % 2)\n",
        "                else:\n",
        "                    chess_row.append((j + 1) % 2)\n",
        "            chess_board.append(chess_row)\n",
        "\n",
        "        if num_to_color[chess_board[sym_to_num[coordinates[0]]][int(coordinates[1]) - 1]] == 'white':\n",
        "            return True\n",
        "        else:\n",
        "            return False"
      ],
      "metadata": {
        "id": "lNizqMYmd1PE"
      },
      "execution_count": null,
      "outputs": []
    },
    {
      "cell_type": "markdown",
      "source": [
        "## 1979. Find Greatest Common Divisor of Array\n",
        "\n",
        "Given an integer array nums, return the greatest common divisor of the smallest number and largest number in nums.\n",
        "\n",
        "The greatest common divisor of two numbers is the largest positive integer that evenly divides both numbers."
      ],
      "metadata": {
        "id": "RRw1VS0hv-vv"
      }
    },
    {
      "cell_type": "code",
      "source": [
        "# 26\n",
        "\n",
        "class Solution(object):\n",
        "    def findGCD(self, nums):\n",
        "        \"\"\"\n",
        "        :type nums: List[int]\n",
        "        :rtype: int\n",
        "        \"\"\"\n",
        "        small_num, large_num = min(nums), max(nums)\n",
        "\n",
        "        while small_num != 0 and large_num != 0:\n",
        "            if small_num > large_num:\n",
        "                small_num %= large_num\n",
        "            else:\n",
        "                large_num %= small_num\n",
        "\n",
        "        return small_num + large_num"
      ],
      "metadata": {
        "id": "2NdOC1d1v-9u"
      },
      "execution_count": null,
      "outputs": []
    },
    {
      "cell_type": "markdown",
      "source": [
        "## 1837. Sum of Digits in Base K\n",
        "\n",
        "Given an integer n (in base 10) and a base k, return the sum of the digits of n after converting n from base 10 to base k.\n",
        "\n",
        "After converting, each digit should be interpreted as a base 10 number, and the sum should be returned in base 10."
      ],
      "metadata": {
        "id": "6ka71sWaJ3m6"
      }
    },
    {
      "cell_type": "code",
      "source": [
        "# 27\n",
        "\n",
        "class Solution(object):\n",
        "    def sumBase(self, n, k):\n",
        "        \"\"\"\n",
        "        :type n: int\n",
        "        :type k: int\n",
        "        :rtype: int\n",
        "        \"\"\"\n",
        "        s = 0\n",
        "        while n > 0:\n",
        "            s += n % k\n",
        "            n //= k\n",
        "\n",
        "        return s"
      ],
      "metadata": {
        "id": "hpgGibZpJ315"
      },
      "execution_count": null,
      "outputs": []
    },
    {
      "cell_type": "markdown",
      "source": [
        "## 1304. Find N Unique Integers Sum up to Zero\n",
        "\n",
        "Given an integer n, return any array containing n unique integers such that they add up to 0."
      ],
      "metadata": {
        "id": "et8CU3XxNmXB"
      }
    },
    {
      "cell_type": "code",
      "source": [
        "# 28\n",
        "\n",
        "class Solution(object):\n",
        "    def sumZero(self, n):\n",
        "        \"\"\"\n",
        "        :type n: int\n",
        "        :rtype: List[int]\n",
        "        \"\"\"\n",
        "        if n % 2 != 0:\n",
        "            arr0 = [0]\n",
        "            arr1 = [0] * ((n - 1) // 2)\n",
        "            arr2 = [0] * ((n - 1) // 2)\n",
        "            for i in range(n // 2):\n",
        "                arr1[i] += (i + 1)\n",
        "                arr2[i] -= (i + 1)\n",
        "            array = arr0 + arr1 + arr2\n",
        "            return array\n",
        "        else:\n",
        "            arr1 = [0] * (n // 2)\n",
        "            arr2 = [0] * (n // 2)\n",
        "            for i in range(n // 2):\n",
        "                arr1[i] += (i + 1)\n",
        "                arr2[i] -= (i + 1)\n",
        "            array = arr1 + arr2\n",
        "            return array"
      ],
      "metadata": {
        "id": "vHwllGxfNmmJ"
      },
      "execution_count": null,
      "outputs": []
    },
    {
      "cell_type": "markdown",
      "source": [
        "## 2169. Count Operations to Obtain Zero\n",
        "\n",
        "You are given two non-negative integers num1 and num2.\n",
        "\n",
        "In one operation, if num1 >= num2, you must subtract num2 from num1, otherwise subtract num1 from num2.\n",
        "\n",
        "* For example, if num1 = 5 and num2 = 4, subtract num2 from num1, thus obtaining num1 = 1 and num2 = 4. However, if num1 = 4 and num2 = 5, after one operation, num1 = 4 and num2 = 1.\n",
        "\n",
        "Return the number of operations required to make either num1 = 0 or num2 = 0."
      ],
      "metadata": {
        "id": "V9sz1ExhnMfk"
      }
    },
    {
      "cell_type": "code",
      "source": [
        "# 29\n",
        "\n",
        "class Solution(object):\n",
        "    def countOperations(self, num1, num2):\n",
        "        \"\"\"\n",
        "        :type num1: int\n",
        "        :type num2: int\n",
        "        :rtype: int\n",
        "        \"\"\"\n",
        "        count = 0\n",
        "        while num1 != 0 and num2 != 0:\n",
        "            count += 1\n",
        "            if num1 > num2:\n",
        "                num1 -= num2\n",
        "            else:\n",
        "                num2 -= num1\n",
        "\n",
        "        return count"
      ],
      "metadata": {
        "id": "hbClZ1BxnMsc"
      },
      "execution_count": null,
      "outputs": []
    },
    {
      "cell_type": "markdown",
      "source": [
        "## 2965. Find Missing and Repeated Values\n",
        "\n",
        "You are given a 0-indexed 2D integer matrix grid of size n * n with values in the range [1, n2]. Each integer appears exactly once except a which appears twice and b which is missing. The task is to find the repeating and missing numbers a and b.\n",
        "\n",
        "Return a 0-indexed integer array ans of size 2 where ans[0] equals to a and ans[1] equals to b."
      ],
      "metadata": {
        "id": "uTED73DjcvKJ"
      }
    },
    {
      "cell_type": "code",
      "source": [
        "# 30\n",
        "\n",
        "class Solution(object):\n",
        "    def findMissingAndRepeatedValues(self, grid):\n",
        "        \"\"\"\n",
        "        :type grid: List[List[int]]\n",
        "        :rtype: List[int]\n",
        "        \"\"\"\n",
        "        n = len(grid)\n",
        "        sum_of_n2 = ((1 + n ** 2) * n ** 2) / 2\n",
        "\n",
        "        array_grid_num = []\n",
        "        sum_of_grid = 0\n",
        "        for i in range(n):\n",
        "            for j in range(n):\n",
        "                sum_of_grid += grid[i][j]\n",
        "                array_grid_num.append(grid[i][j])\n",
        "\n",
        "        set_grid_num = list(set(array_grid_num))\n",
        "\n",
        "        repeated = sum_of_grid - sum(set_grid_num)\n",
        "        missed = sum_of_n2 - (sum_of_grid - repeated)\n",
        "\n",
        "        return [repeated, missed]"
      ],
      "metadata": {
        "id": "A2rXwH9_cvsw"
      },
      "execution_count": null,
      "outputs": []
    },
    {
      "cell_type": "markdown",
      "source": [
        "## 2843. Count Symmetric Integers\n",
        "\n",
        "You are given two positive integers low and high.\n",
        "\n",
        "An integer x consisting of 2 * n digits is symmetric if the sum of the first n digits of x is equal to the sum of the last n digits of x. Numbers with an odd number of digits are never symmetric.\n",
        "\n",
        "Return the number of symmetric integers in the range [low, high]."
      ],
      "metadata": {
        "id": "PuDAX4PkpaC2"
      }
    },
    {
      "cell_type": "code",
      "source": [
        "# 31\n",
        "\n",
        "class Solution(object):\n",
        "    def countSymmetricIntegers(self, low, high):\n",
        "        \"\"\"\n",
        "        :type low: int\n",
        "        :type high: int\n",
        "        :rtype: int\n",
        "        \"\"\"\n",
        "        count = 0\n",
        "        for x in range(low, high + 1):\n",
        "            str_x = str(x)\n",
        "            len_x = len(str_x)\n",
        "            if len_x % 2 == 0:\n",
        "                left_h = int(str_x[:len_x // 2:])\n",
        "                right_h = int(str_x[len_x // 2::])\n",
        "                s_left = 0\n",
        "                s_right = 0\n",
        "                while left_h > 0:\n",
        "                    s_left += left_h % 10\n",
        "                    left_h //= 10\n",
        "                while right_h > 0:\n",
        "                    s_right += right_h % 10\n",
        "                    right_h //= 10\n",
        "                if s_left == s_right:\n",
        "                    count += 1\n",
        "\n",
        "        return count"
      ],
      "metadata": {
        "id": "3sGvzjw5pac3"
      },
      "execution_count": null,
      "outputs": []
    },
    {
      "cell_type": "markdown",
      "source": [
        "## 2928. Distribute Candies Among Children I\n",
        "\n",
        "You are given two positive integers n and limit.\n",
        "\n",
        "Return the total number of ways to distribute n candies among 3 children such that no child gets more than limit candies."
      ],
      "metadata": {
        "id": "kGoeuCl0JmLx"
      }
    },
    {
      "cell_type": "code",
      "source": [
        "# 32\n",
        "\n",
        "class Solution(object):\n",
        "    def distributeCandies(self, n, limit):\n",
        "        \"\"\"\n",
        "        :type n: int\n",
        "        :type limit: int\n",
        "        :rtype: int\n",
        "        \"\"\"\n",
        "        count_distrib = 0\n",
        "        for sweet_1 in range(limit + 1):\n",
        "            for sweet_2 in range(limit + 1):\n",
        "                sweet_3 = n - (sweet_1 + sweet_2)\n",
        "                if sweet_1 + sweet_2 + sweet_3 == n and -1 < sweet_3 and sweet_3 <= limit:\n",
        "                    count_distrib += 1\n",
        "\n",
        "        return count_distrib"
      ],
      "metadata": {
        "id": "pUViTIGMJmp4"
      },
      "execution_count": null,
      "outputs": []
    },
    {
      "cell_type": "markdown",
      "source": [
        "## 2864. Maximum Odd Binary Number\n",
        "\n",
        "You are given a binary string s that contains at least one '1'.\n",
        "\n",
        "You have to rearrange the bits in such a way that the resulting binary number is the maximum odd binary number that can be created from this combination.\n",
        "\n",
        "Return a string representing the maximum odd binary number that can be created from the given combination.\n",
        "\n",
        "Note that the resulting string can have leading zeros."
      ],
      "metadata": {
        "id": "vC2I_bYufOFZ"
      }
    },
    {
      "cell_type": "code",
      "source": [
        "# 33\n",
        "\n",
        "class Solution(object):\n",
        "    def maximumOddBinaryNumber(self, s):\n",
        "        \"\"\"\n",
        "        :type s: str\n",
        "        :rtype: str\n",
        "        \"\"\"\n",
        "        return '1' * (s.count('1') - 1) + '0' * (s.count('0')) + '1'"
      ],
      "metadata": {
        "id": "jQHjK66vfTvB"
      },
      "execution_count": 3,
      "outputs": []
    }
  ]
}