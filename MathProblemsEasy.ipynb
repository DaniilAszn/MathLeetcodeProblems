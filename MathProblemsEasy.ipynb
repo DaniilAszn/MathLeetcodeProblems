{
  "nbformat": 4,
  "nbformat_minor": 0,
  "metadata": {
    "colab": {
      "provenance": [],
      "authorship_tag": "ABX9TyPLhdJJ2QgSC3ingKDOZsvg",
      "include_colab_link": true
    },
    "kernelspec": {
      "name": "python3",
      "display_name": "Python 3"
    },
    "language_info": {
      "name": "python"
    }
  },
  "cells": [
    {
      "cell_type": "markdown",
      "metadata": {
        "id": "view-in-github",
        "colab_type": "text"
      },
      "source": [
        "<a href=\"https://colab.research.google.com/github/DaniilAszn/MathLeetcodeProblems/blob/main/MathProblemsEasy.ipynb\" target=\"_parent\"><img src=\"https://colab.research.google.com/assets/colab-badge.svg\" alt=\"Open In Colab\"/></a>"
      ]
    },
    {
      "cell_type": "markdown",
      "source": [
        "## 1512. Number of Good Pairs\n",
        "\n",
        "Given an array of integers nums, return the number of good pairs.\n",
        "\n",
        "A pair (i, j) is called good if nums[i] == nums[j] and i < j."
      ],
      "metadata": {
        "id": "PZR-0KaECbRM"
      }
    },
    {
      "cell_type": "code",
      "source": [
        "# 1\n",
        "\n",
        "class Solution(object):\n",
        "    def numIdenticalPairs(self, nums):\n",
        "        \"\"\"\n",
        "        :type nums: List[int]\n",
        "        :rtype: int\n",
        "        \"\"\"\n",
        "        result = 0\n",
        "\n",
        "        for i in range(len(nums)):\n",
        "            for j in range(i + 1, len(nums)):\n",
        "                if nums[i] == nums[j]:\n",
        "                    result += 1\n",
        "\n",
        "        return result"
      ],
      "metadata": {
        "id": "igA3UmxRgGVI"
      },
      "execution_count": null,
      "outputs": []
    },
    {
      "cell_type": "markdown",
      "source": [
        "## 2469. Convert the Temperature\n",
        "\n",
        "You are given a non-negative floating point number rounded to two decimal places celsius, that denotes the temperature in Celsius.\n",
        "\n",
        "You should convert Celsius into Kelvin and Fahrenheit and return it as an array ans = [kelvin, fahrenheit].\n",
        "\n",
        "Return the array ans. Answers within 10-5 of the actual answer will be accepted.\n",
        "\n",
        "Note that:\n",
        "\n",
        "* Kelvin = Celsius + 273.15\n",
        "* Fahrenheit = Celsius * 1.80 + 32.00"
      ],
      "metadata": {
        "id": "cypYTvTMCEXP"
      }
    },
    {
      "cell_type": "code",
      "source": [
        "# 2\n",
        "\n",
        "class Solution(object):\n",
        "    def convertTemperature(self, celsius):\n",
        "        \"\"\"\n",
        "        :type celsius: float\n",
        "        :rtype: List[float]\n",
        "        \"\"\"\n",
        "        return [celsius + 273.15, celsius * 1.80 + 32.00]"
      ],
      "metadata": {
        "id": "-2NqGuURgOSK"
      },
      "execution_count": null,
      "outputs": []
    },
    {
      "cell_type": "markdown",
      "source": [
        "## 2769. Find the Maximum Achievable Number\n",
        "\n",
        "You are given two integers, num and t.\n",
        "\n",
        "An integer x is called achievable if it can become equal to num after applying the following operation no more than t times:\n",
        "\n",
        "* Increase or decrease x by 1, and simultaneously increase or decrease num by 1.\n",
        "\n",
        "Return the maximum possible achievable number. It can be proven that there exists at least one achievable number."
      ],
      "metadata": {
        "id": "n9XQ4KEeBhw4"
      }
    },
    {
      "cell_type": "code",
      "source": [
        "# 3\n",
        "\n",
        "class Solution(object):\n",
        "    def theMaximumAchievableX(self, num, t):\n",
        "        \"\"\"\n",
        "        :type num: int\n",
        "        :type t: int\n",
        "        :rtype: int\n",
        "        \"\"\"\n",
        "\t      return num + 2 * t"
      ],
      "metadata": {
        "id": "yb_VsxcEgS2h"
      },
      "execution_count": null,
      "outputs": []
    },
    {
      "cell_type": "markdown",
      "source": [
        "## 2894. Divisible and Non-divisible Sums Difference\n",
        "\n",
        "You are given positive integers n and m.\n",
        "\n",
        "Define two integers, num1 and num2, as follows:\n",
        "\n",
        "*   num1: The sum of all integers in the range [1, n] that are not divisible by m.\n",
        "*   num2: The sum of all integers in the range [1, n] that are divisible by m.\n",
        "\n",
        "Return the integer num1 - num2."
      ],
      "metadata": {
        "id": "OBRcshN5AMeK"
      }
    },
    {
      "cell_type": "code",
      "source": [
        "# 4\n",
        "\n",
        "class Solution(object):\n",
        "    def differenceOfSums(self, n, m):\n",
        "        \"\"\"\n",
        "        :type n: int\n",
        "        :type m: int\n",
        "        :rtype: int\n",
        "        \"\"\"\n",
        "        num1 = sum([x * (x % m != 0) for x in range(1, n + 1)])\n",
        "        num2 = sum([x * (x % m == 0) for x in range(1, n + 1)])\n",
        "\n",
        "        return num1 - num2"
      ],
      "metadata": {
        "id": "10vsawfBAMNC"
      },
      "execution_count": null,
      "outputs": []
    },
    {
      "cell_type": "markdown",
      "source": [
        "## 2413. Smallest Even Multiple\n",
        "\n",
        "Given a positive integer n, return the smallest positive integer that is a multiple of both 2 and n."
      ],
      "metadata": {
        "id": "lTuXG7hBL7Xy"
      }
    },
    {
      "cell_type": "code",
      "source": [
        "# 5\n",
        "\n",
        "class Solution(object):\n",
        "    def smallestEvenMultiple(self, n, m = 2):\n",
        "        \"\"\"\n",
        "        :type n: int\n",
        "        :rtype: int\n",
        "        \"\"\"\n",
        "        result = 0\n",
        "\n",
        "        for i in range(max(n , m), n * m + 1):\n",
        "            if (i % n == 0) and (i % m == 0):\n",
        "                result = i\n",
        "                break\n",
        "\n",
        "        return result"
      ],
      "metadata": {
        "id": "Yd21E5UoL7uo"
      },
      "execution_count": null,
      "outputs": []
    },
    {
      "cell_type": "markdown",
      "source": [
        "## 2235. Add Two Integers\n",
        "\n",
        "Given two integers num1 and num2, return the sum of the two integers."
      ],
      "metadata": {
        "id": "E_qfrDBuLi_E"
      }
    },
    {
      "cell_type": "code",
      "source": [
        "# 6\n",
        "\n",
        "class Solution(object):\n",
        "    def sum(self, num1, num2):\n",
        "        \"\"\"\n",
        "        :type num1: int\n",
        "        :type num2: int\n",
        "        :rtype: int\n",
        "        \"\"\"\n",
        "        return num1 + num2"
      ],
      "metadata": {
        "id": "qMVRJySyLjXQ"
      },
      "execution_count": null,
      "outputs": []
    },
    {
      "cell_type": "markdown",
      "source": [
        "## 1281. Subtract the Product and Sum of Digits of an Integer\n",
        "\n",
        "Given an integer number n, return the difference between the product of its digits and the sum of its digits."
      ],
      "metadata": {
        "id": "O0FyTYkUMvQO"
      }
    },
    {
      "cell_type": "code",
      "source": [
        "# 7\n",
        "\n",
        "class Solution(object):\n",
        "    def subtractProductAndSum(self, n):\n",
        "        \"\"\"\n",
        "        :type n: int\n",
        "        :rtype: int\n",
        "        \"\"\"\n",
        "        product = 1\n",
        "        sum = 0\n",
        "\n",
        "        while n > 0:\n",
        "            product *= n % 10\n",
        "            sum += n % 10\n",
        "            n //= 10\n",
        "\n",
        "        return product - sum"
      ],
      "metadata": {
        "id": "AwSwdkEzMvtH"
      },
      "execution_count": null,
      "outputs": []
    },
    {
      "cell_type": "markdown",
      "source": [
        "## 2160. Minimum Sum of Four Digit Number After Splitting Digits\n",
        "\n",
        "You are given a positive integer num consisting of exactly four digits. Split num into two new integers new1 and new2 by using the digits found in num. Leading zeros are allowed in new1 and new2, and all the digits found in num must be used.\n",
        "\n",
        "* For example, given num = 2932, you have the following digits: two 2's, one 9 and one 3. Some of the possible pairs [new1, new2] are [22, 93], [23, 92], [223, 9] and [2, 329].\n",
        "\n",
        "Return the minimum possible sum of new1 and new2."
      ],
      "metadata": {
        "id": "2GWeOd616xPX"
      }
    },
    {
      "cell_type": "code",
      "source": [
        "# 8\n",
        "\n",
        "class Solution(object):\n",
        "    def minimumSum(self, num):\n",
        "        \"\"\"\n",
        "        :type num: int\n",
        "        :rtype: int\n",
        "        \"\"\"\n",
        "        result = []\n",
        "\n",
        "        while num > 0:\n",
        "            result.append(num % 10)\n",
        "            num //= 10\n",
        "\n",
        "        result.sort()\n",
        "\n",
        "        num1 = result[0] * 10 + result[2]\n",
        "        num2 = result[1] * 10 + result[3]\n",
        "\n",
        "        return num1 + num2"
      ],
      "metadata": {
        "id": "8UGKo7Ni67Dz"
      },
      "execution_count": null,
      "outputs": []
    },
    {
      "cell_type": "markdown",
      "source": [
        "## 1688. Count of Matches in Tournament\n",
        "\n",
        "You are given an integer n, the number of teams in a tournament that has strange rules:\n",
        "\n",
        "* If the current number of teams is even, each team gets paired with another team. A total of n / 2 matches are played, and n / 2 teams advance to the next round.\n",
        "* If the current number of teams is odd, one team randomly advances in the tournament, and the rest gets paired. A total of (n - 1) / 2 matches are played, and (n - 1) / 2 + 1 teams advance to the next round.\n",
        "\n",
        "Return the number of matches played in the tournament until a winner is decided."
      ],
      "metadata": {
        "id": "Z1kLwXdN6W9V"
      }
    },
    {
      "cell_type": "code",
      "source": [
        "# 9\n",
        "\n",
        "class Solution(object):\n",
        "    def numberOfMatches(self, n):\n",
        "        \"\"\"\n",
        "        :type n: int\n",
        "        :rtype: int\n",
        "        \"\"\"\n",
        "        s = 0\n",
        "        while n > 1:\n",
        "\n",
        "            if n % 2 == 0:\n",
        "                m = n / 2\n",
        "                t = n / 2\n",
        "                s += m\n",
        "            else:\n",
        "                m = (n - 1) / 2\n",
        "                t = (n - 1) / 2 + 1\n",
        "                s += m\n",
        "\n",
        "            n = t\n",
        "\n",
        "        return s"
      ],
      "metadata": {
        "id": "5GxUd1Zi6XQH"
      },
      "execution_count": null,
      "outputs": []
    },
    {
      "cell_type": "markdown",
      "source": [
        "## 1486. XOR Operation in an Array\n",
        "\n",
        "You are given an integer n and an integer start.\n",
        "\n",
        "Define an array nums where nums[i] = start + 2 * i (0-indexed) and n == nums.length.\n",
        "\n",
        "Return the bitwise XOR of all elements of nums."
      ],
      "metadata": {
        "id": "JMBXrfadLNVs"
      }
    },
    {
      "cell_type": "code",
      "source": [
        "# 10\n",
        "\n",
        "class Solution(object):\n",
        "    def xorOperation(self, n, start):\n",
        "        \"\"\"\n",
        "        :type n: int\n",
        "        :type start: int\n",
        "        :rtype: int\n",
        "        \"\"\"\n",
        "        result = 0\n",
        "        nums = []\n",
        "        for i in range(n):\n",
        "            nums.append(start + 2 * i)\n",
        "            result = result ^ nums[i]\n",
        "\n",
        "        return result"
      ],
      "metadata": {
        "id": "wQDADZUiLN5M"
      },
      "execution_count": null,
      "outputs": []
    },
    {
      "cell_type": "markdown",
      "source": [
        "## 1342. Number of Steps to Reduce a Number to Zero\n",
        "\n",
        "Given an integer num, return the number of steps to reduce it to zero.\n",
        "\n",
        "In one step, if the current number is even, you have to divide it by 2, otherwise, you have to subtract 1 from it."
      ],
      "metadata": {
        "id": "_yEUhwykQ6WL"
      }
    },
    {
      "cell_type": "code",
      "source": [
        "# 11\n",
        "\n",
        "class Solution(object):\n",
        "    def numberOfSteps(self, num):\n",
        "        \"\"\"\n",
        "        :type num: int\n",
        "        :rtype: int\n",
        "        \"\"\"\n",
        "        count = 0\n",
        "        while (num != 0):\n",
        "            count += 1\n",
        "            if num % 2 == 0:\n",
        "                num /= 2\n",
        "            else:\n",
        "                num -= 1\n",
        "\n",
        "        return count"
      ],
      "metadata": {
        "id": "WOjtGi46Q6sz"
      },
      "execution_count": null,
      "outputs": []
    },
    {
      "cell_type": "markdown",
      "source": [
        "## 2652. Sum Multiples\n",
        "\n",
        "Given a positive integer n, find the sum of all integers in the range [1, n] inclusive that are divisible by 3, 5, or 7.\n",
        "\n",
        "Return an integer denoting the sum of all numbers in the given range satisfying the constraint."
      ],
      "metadata": {
        "id": "U5O2YnN1AlVi"
      }
    },
    {
      "cell_type": "code",
      "source": [
        "# 12\n",
        "\n",
        "class Solution(object):\n",
        "    def sumOfMultiples(self, n):\n",
        "        \"\"\"\n",
        "        :type n: int\n",
        "        :rtype: int\n",
        "        \"\"\"\n",
        "        s = 0\n",
        "        for i in range(1, n + 1):\n",
        "            if (i % 3 == 0) or (i % 5 == 0) or (i % 7 == 0):\n",
        "                s += i\n",
        "        return s"
      ],
      "metadata": {
        "id": "BkfOXZHwAloM"
      },
      "execution_count": 5,
      "outputs": []
    }
  ]
}