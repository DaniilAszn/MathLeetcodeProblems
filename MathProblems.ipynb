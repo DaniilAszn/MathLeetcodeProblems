{
  "nbformat": 4,
  "nbformat_minor": 0,
  "metadata": {
    "colab": {
      "provenance": [],
      "authorship_tag": "ABX9TyOpb1B5fReqPlt8Fcvt5hVj",
      "include_colab_link": true
    },
    "kernelspec": {
      "name": "python3",
      "display_name": "Python 3"
    },
    "language_info": {
      "name": "python"
    }
  },
  "cells": [
    {
      "cell_type": "markdown",
      "metadata": {
        "id": "view-in-github",
        "colab_type": "text"
      },
      "source": [
        "<a href=\"https://colab.research.google.com/github/DaniilAszn/MathLeetcodeProblems/blob/main/MathProblems.ipynb\" target=\"_parent\"><img src=\"https://colab.research.google.com/assets/colab-badge.svg\" alt=\"Open In Colab\"/></a>"
      ]
    },
    {
      "cell_type": "code",
      "source": [
        "# 1\n",
        "\n",
        "class Solution(object):\n",
        "    def numIdenticalPairs(self, nums):\n",
        "        \"\"\"\n",
        "        :type nums: List[int]\n",
        "        :rtype: int\n",
        "        \"\"\"\n",
        "        result = 0\n",
        "        for i in range(len(nums)):\n",
        "            for j in range(i + 1, len(nums)):\n",
        "                if nums[i] == nums[j]:\n",
        "                    result += 1\n",
        "        return result"
      ],
      "metadata": {
        "id": "igA3UmxRgGVI"
      },
      "execution_count": null,
      "outputs": []
    },
    {
      "cell_type": "code",
      "source": [
        "# 2\n",
        "\n",
        "class Solution(object):\n",
        "    def convertTemperature(self, celsius):\n",
        "        \"\"\"\n",
        "        :type celsius: float\n",
        "        :rtype: List[float]\n",
        "        \"\"\"\n",
        "        return [celsius + 273.15, celsius * 1.80 + 32.00]"
      ],
      "metadata": {
        "id": "-2NqGuURgOSK"
      },
      "execution_count": null,
      "outputs": []
    },
    {
      "cell_type": "code",
      "source": [
        "# 3\n",
        "\n",
        "class Solution(object):\n",
        "    def theMaximumAchievableX(self, num, t):\n",
        "        \"\"\"\n",
        "        :type num: int\n",
        "        :type t: int\n",
        "        :rtype: int\n",
        "        \"\"\"\n",
        "\treturn num + 2 * t"
      ],
      "metadata": {
        "id": "yb_VsxcEgS2h"
      },
      "execution_count": null,
      "outputs": []
    }
  ]
}