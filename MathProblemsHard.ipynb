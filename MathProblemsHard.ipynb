{
  "nbformat": 4,
  "nbformat_minor": 0,
  "metadata": {
    "colab": {
      "provenance": [],
      "authorship_tag": "ABX9TyP9Pn+KpZ7yszy5qtfUUliS",
      "include_colab_link": true
    },
    "kernelspec": {
      "name": "python3",
      "display_name": "Python 3"
    },
    "language_info": {
      "name": "python"
    }
  },
  "cells": [
    {
      "cell_type": "markdown",
      "metadata": {
        "id": "view-in-github",
        "colab_type": "text"
      },
      "source": [
        "<a href=\"https://colab.research.google.com/github/DaniilAszn/Math_Leetcode_Problems/blob/main/MathProblemsHard.ipynb\" target=\"_parent\"><img src=\"https://colab.research.google.com/assets/colab-badge.svg\" alt=\"Open In Colab\"/></a>"
      ]
    },
    {
      "cell_type": "markdown",
      "source": [
        "## 2827. Number of Beautiful Integers in the Range\n",
        "\n",
        "You are given positive integers low, high, and k.\n",
        "\n",
        "A number is beautiful if it meets both of the following conditions:\n",
        "\n",
        "* The count of even digits in the number is equal to the count of odd digits.\n",
        "* The number is divisible by k.\n",
        "\n",
        "Return the number of beautiful integers in the range [low, high]."
      ],
      "metadata": {
        "id": "bhVV_G0_uZV5"
      }
    },
    {
      "cell_type": "code",
      "execution_count": null,
      "metadata": {
        "id": "OVIISJtvWZ5l",
        "colab": {
          "base_uri": "https://localhost:8080/"
        },
        "outputId": "dea9d1a7-82a0-474a-b147-6fe745d66c9d"
      },
      "outputs": [
        {
          "output_type": "execute_result",
          "data": {
            "text/plain": [
              "1315"
            ]
          },
          "metadata": {},
          "execution_count": 6
        }
      ],
      "source": [
        "# 1\n",
        "\n",
        "low = 10\n",
        "high = 20\n",
        "k = 3\n",
        "\n",
        "low = 1\n",
        "high = 10\n",
        "k = 1\n",
        "\n",
        "low = 3242\n",
        "high = 21410\n",
        "k = 2\n",
        "\n",
        "while low % k != 0:\n",
        "    low += 1\n",
        "\n",
        "count = 0\n",
        "for num in range(low, high + 1, k):\n",
        "    x = num\n",
        "    if x % k == 0:\n",
        "        digits = []\n",
        "        while x > 0:\n",
        "            digits.append(x % 10)\n",
        "            x //= 10\n",
        "        if len([digit for digit in digits if digit % 2 == 0]) == len([digit for digit in digits if digit % 2 != 0]):\n",
        "            count += 1\n",
        "\n",
        "count"
      ]
    },
    {
      "cell_type": "markdown",
      "source": [
        "## 1835. Find XOR Sum of All Pairs Bitwise AND\n",
        "\n",
        "The XOR sum of a list is the bitwise XOR of all its elements. If the list only contains one element, then its XOR sum will be equal to this element.\n",
        "\n",
        "* For example, the XOR sum of [1,2,3,4] is equal to 1 XOR 2 XOR 3 XOR 4 = 4, and the XOR sum of [3] is equal to 3.\n",
        "\n",
        "You are given two 0-indexed arrays arr1 and arr2 that consist only of non-negative integers.\n",
        "\n",
        "Consider the list containing the result of arr1[i] AND arr2[j] (bitwise AND) for every (i, j) pair where 0 <= i < arr1.length and 0 <= j < arr2.length.\n",
        "\n",
        "Return the XOR sum of the aforementioned list."
      ],
      "metadata": {
        "id": "3Wd3vHQrQOG2"
      }
    },
    {
      "cell_type": "code",
      "source": [
        "# 2\n",
        "\n",
        "class Solution(object):\n",
        "    def getXORSum(self, arr1, arr2):\n",
        "        \"\"\"\n",
        "        :type arr1: List[int]\n",
        "        :type arr2: List[int]\n",
        "        :rtype: int\n",
        "        \"\"\"\n",
        "        XOR_sum1 = 0\n",
        "        for num in arr1:\n",
        "            XOR_sum1 ^= num\n",
        "\n",
        "        XOR_sum2 = 0\n",
        "        for num in arr2:\n",
        "            XOR_sum2 ^= num\n",
        "\n",
        "\n",
        "        return XOR_sum1 & XOR_sum2\n"
      ],
      "metadata": {
        "id": "_efljPHGQOWT"
      },
      "execution_count": null,
      "outputs": []
    },
    {
      "cell_type": "markdown",
      "source": [
        "## 60. Permutation Sequence\n",
        "\n",
        "The set [1, 2, 3, ..., n] contains a total of n! unique permutations.\n",
        "\n",
        "By listing and labeling all of the permutations in order, we get the following sequence for n = 3:\n",
        "\n",
        "1. \"123\"\n",
        "2. \"132\"\n",
        "3. \"213\"\n",
        "4. \"231\"\n",
        "5. \"312\"\n",
        "6. \"321\"\n",
        "\n",
        "Given n and k, return the kth permutation sequence."
      ],
      "metadata": {
        "id": "_NtoRnXlc8VY"
      }
    },
    {
      "cell_type": "code",
      "source": [
        "# 3\n",
        "\n",
        "class Solution(object):\n",
        "    def getPermutation(self, n, k):\n",
        "        \"\"\"\n",
        "        :type n: int\n",
        "        :type k: int\n",
        "        :rtype: str\n",
        "        \"\"\"\n",
        "        def f(n):\n",
        "            p = 1\n",
        "            for num in range(1, n + 1):\n",
        "                p *= num\n",
        "            return p\n",
        "\n",
        "        k -= 1\n",
        "        numbers = range(1, n + 1)\n",
        "        permutation = ''\n",
        "        while n > 0:\n",
        "            n -= 1\n",
        "            idx, k = divmod(k, f(n))\n",
        "            permutation += str(numbers[idx])\n",
        "            numbers.remove(numbers[idx])\n",
        "\n",
        "        return permutation\n",
        ""
      ],
      "metadata": {
        "id": "xzkpmS4GcUU5"
      },
      "execution_count": 45,
      "outputs": []
    }
  ]
}